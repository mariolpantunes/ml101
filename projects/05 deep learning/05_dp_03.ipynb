{
 "cells": [
  {
   "cell_type": "markdown",
   "metadata": {
    "id": "klGNgWREsvQv"
   },
   "source": [
    "##### Copyright 2021 The TF-Agents Authors."
   ]
  },
  {
   "cell_type": "code",
   "execution_count": 1,
   "metadata": {
    "cellView": "form",
    "execution": {
     "iopub.execute_input": "2021-09-29T12:18:09.444263Z",
     "iopub.status.busy": "2021-09-29T12:18:09.443600Z",
     "iopub.status.idle": "2021-09-29T12:18:09.446089Z",
     "shell.execute_reply": "2021-09-29T12:18:09.446490Z"
    },
    "id": "nQnmcm0oI1Q-"
   },
   "outputs": [],
   "source": [
    "#@title Licensed under the Apache License, Version 2.0 (the \"License\");\n",
    "# you may not use this file except in compliance with the License.\n",
    "# You may obtain a copy of the License at\n",
    "#\n",
    "# https://www.apache.org/licenses/LICENSE-2.0\n",
    "#\n",
    "# Unless required by applicable law or agreed to in writing, software\n",
    "# distributed under the License is distributed on an \"AS IS\" BASIS,\n",
    "# WITHOUT WARRANTIES OR CONDITIONS OF ANY KIND, either express or implied.\n",
    "# See the License for the specific language governing permissions and\n",
    "# limitations under the License."
   ]
  },
  {
   "cell_type": "markdown",
   "metadata": {
    "id": "pmDI-h7cI0tI"
   },
   "source": [
    "# Train a Deep Q Network with TF-Agents\n",
    "\n",
    "<table class=\"tfo-notebook-buttons\" align=\"left\">\n",
    "  <td>\n",
    "    <a target=\"_blank\" href=\"https://www.tensorflow.org/agents/tutorials/1_dqn_tutorial\">\n",
    "    <img src=\"https://www.tensorflow.org/images/tf_logo_32px.png\" />\n",
    "    View on TensorFlow.org</a>\n",
    "  </td>\n",
    "  <td>\n",
    "    <a target=\"_blank\" href=\"https://colab.research.google.com/github/tensorflow/agents/blob/master/docs/tutorials/1_dqn_tutorial.ipynb\">\n",
    "    <img src=\"https://www.tensorflow.org/images/colab_logo_32px.png\" />\n",
    "    Run in Google Colab</a>\n",
    "  </td>\n",
    "  <td>\n",
    "    <a target=\"_blank\" href=\"https://github.com/tensorflow/agents/blob/master/docs/tutorials/1_dqn_tutorial.ipynb\">\n",
    "    <img src=\"https://www.tensorflow.org/images/GitHub-Mark-32px.png\" />\n",
    "    View source on GitHub</a>\n",
    "  </td>\n",
    "  <td>\n",
    "    <a href=\"https://storage.googleapis.com/tensorflow_docs/agents/docs/tutorials/1_dqn_tutorial.ipynb\"><img src=\"https://www.tensorflow.org/images/download_logo_32px.png\" />Download notebook</a>\n",
    "  </td>\n",
    "</table>"
   ]
  },
  {
   "cell_type": "markdown",
   "metadata": {
    "id": "lsaQlK8fFQqH"
   },
   "source": [
    "## Introduction\n"
   ]
  },
  {
   "cell_type": "markdown",
   "metadata": {
    "id": "cKOCZlhUgXVK"
   },
   "source": [
    "This example shows how to train a [DQN (Deep Q Networks)](https://storage.googleapis.com/deepmind-media/dqn/DQNNaturePaper.pdf)  agent on the Cartpole environment using the TF-Agents library.\n",
    "\n",
    "![Cartpole environment](https://raw.githubusercontent.com/tensorflow/agents/master/docs/tutorials/images/cartpole.png)\n",
    "\n",
    "It will walk you through all the components in a Reinforcement Learning (RL) pipeline for training, evaluation and data collection.\n",
    "\n",
    "\n",
    "To run this code live, click the 'Run in Google Colab' link above.\n"
   ]
  },
  {
   "cell_type": "markdown",
   "metadata": {
    "id": "1u9QVVsShC9X"
   },
   "source": [
    "## Setup"
   ]
  },
  {
   "cell_type": "markdown",
   "metadata": {
    "id": "kNrNXKI7bINP"
   },
   "source": [
    "If you haven't installed the following dependencies, run:"
   ]
  },
  {
   "cell_type": "code",
   "execution_count": 2,
   "metadata": {
    "execution": {
     "iopub.execute_input": "2021-09-29T12:18:09.461645Z",
     "iopub.status.busy": "2021-09-29T12:18:09.457756Z",
     "iopub.status.idle": "2021-09-29T12:18:26.451099Z",
     "shell.execute_reply": "2021-09-29T12:18:26.450515Z"
    },
    "id": "KEHR2Ui-lo8O"
   },
   "outputs": [
    {
     "name": "stdout",
     "output_type": "stream",
     "text": [
      "\r",
      "0% [Working]\r",
      "            \r",
      "Hit:1 http://asia-east1.gce.archive.ubuntu.com/ubuntu bionic InRelease\r\n",
      "\r",
      "0% [Connecting to security.ubuntu.com (91.189.91.38)] [Connected to packages.cl\r",
      "                                                                               \r",
      "Hit:2 http://asia-east1.gce.archive.ubuntu.com/ubuntu bionic-updates InRelease\r\n",
      "\r",
      "                                                                               \r",
      "Hit:3 http://asia-east1.gce.archive.ubuntu.com/ubuntu bionic-backports InRelease\r\n",
      "\r",
      "0% [Connecting to security.ubuntu.com (91.189.91.38)] [Connected to packages.cl\r",
      "0% [1 InRelease gpgv 242 kB] [Connecting to security.ubuntu.com (91.189.91.38)]"
     ]
    },
    {
     "name": "stdout",
     "output_type": "stream",
     "text": [
      "\r",
      "                                                                               \r",
      "Hit:4 https://nvidia.github.io/libnvidia-container/stable/ubuntu18.04/amd64  InRelease\r\n",
      "\r",
      "0% [1 InRelease gpgv 242 kB] [Connecting to security.ubuntu.com (91.189.91.38)]\r",
      "0% [Connecting to security.ubuntu.com (91.189.91.38)] [Waiting for headers] [Wa\r",
      "0% [2 InRelease gpgv 88.7 kB] [Connecting to security.ubuntu.com (91.189.91.38)\r",
      "                                                                               \r",
      "Get:5 https://nvidia.github.io/nvidia-container-runtime/ubuntu18.04/amd64  InRelease [1481 B]\r\n",
      "\r",
      "0% [2 InRelease gpgv 88.7 kB] [Connecting to security.ubuntu.com (91.189.91.38)\r",
      "0% [2 InRelease gpgv 88.7 kB] [Connecting to security.ubuntu.com (91.189.91.38)"
     ]
    },
    {
     "name": "stdout",
     "output_type": "stream",
     "text": [
      "\r",
      "                                                                               \r",
      "Hit:6 https://nvidia.github.io/nvidia-docker/ubuntu18.04/amd64  InRelease\r\n",
      "\r",
      "0% [2 InRelease gpgv 88.7 kB] [Connecting to security.ubuntu.com (91.189.91.38)"
     ]
    },
    {
     "name": "stdout",
     "output_type": "stream",
     "text": [
      "\r",
      "0% [Waiting for headers] [Waiting for headers] [Waiting for headers] [Waiting f\r",
      "0% [3 InRelease gpgv 74.6 kB] [Waiting for headers] [Waiting for headers] [Wait\r",
      "                                                                               \r",
      "Ign:7 http://developer.download.nvidia.com/compute/machine-learning/repos/ubuntu1804/x86_64  InRelease\r\n",
      "\r",
      "0% [3 InRelease gpgv 74.6 kB] [Waiting for headers] [Waiting for headers] [Wait\r",
      "                                                                               \r",
      "Hit:8 http://developer.download.nvidia.com/compute/machine-learning/repos/ubuntu1804/x86_64  Release\r\n",
      "\r",
      "0% [3 InRelease gpgv 74.6 kB] [Waiting for headers] [Waiting for headers] [Wait\r",
      "                                                                               \r",
      "Get:9 http://packages.cloud.google.com/apt google-cloud-logging-wheezy InRelease [5483 B]\r\n",
      "\r",
      "0% [3 InRelease gpgv 74.6 kB] [Waiting for headers] [Waiting for headers] [9 In\r",
      "0% [3 InRelease gpgv 74.6 kB] [Waiting for headers] [Waiting for headers] [Wait"
     ]
    },
    {
     "name": "stdout",
     "output_type": "stream",
     "text": [
      "\r",
      "                                                                               \r",
      "0% [Waiting for headers] [Waiting for headers] [Waiting for headers]\r",
      "0% [4 InRelease gpgv 1484 B] [Waiting for headers] [Waiting for headers] [Waiti"
     ]
    },
    {
     "name": "stdout",
     "output_type": "stream",
     "text": [
      "\r",
      "                                                                               \r",
      "Get:10 https://packages.cloud.google.com/apt eip-cloud-bionic InRelease [5419 B]\r\n",
      "\r",
      "0% [4 InRelease gpgv 1484 B] [Waiting for headers] [10 InRelease 3592 B/5419 B \r",
      "                                                                               \r",
      "0% [4 InRelease gpgv 1484 B] [Waiting for headers] [Waiting for headers]\r",
      "                                                                        \r",
      "Get:11 http://security.ubuntu.com/ubuntu bionic-security InRelease [88.7 kB]\r\n",
      "\r",
      "0% [4 InRelease gpgv 1484 B] [11 InRelease 12.6 kB/88.7 kB 14%] [Waiting for he\r",
      "                                                                               \r",
      "0% [11 InRelease 12.6 kB/88.7 kB 14%] [Waiting for headers]\r",
      "0% [5 InRelease gpgv 1481 B] [11 InRelease 12.6 kB/88.7 kB 14%] [Waiting for he"
     ]
    },
    {
     "name": "stdout",
     "output_type": "stream",
     "text": [
      "\r",
      "                                                                               \r",
      "Hit:12 http://archive.canonical.com/ubuntu bionic InRelease\r\n",
      "\r",
      "                                                                               \r",
      "0% [5 InRelease gpgv 1481 B] [11 InRelease 12.6 kB/88.7 kB 14%]\r",
      "                                                               \r",
      "0% [11 InRelease 12.6 kB/88.7 kB 14%]\r",
      "0% [6 InRelease gpgv 1474 B] [11 InRelease 12.6 kB/88.7 kB 14%]"
     ]
    },
    {
     "name": "stdout",
     "output_type": "stream",
     "text": [
      "\r",
      "                                                               \r",
      "0% [11 InRelease 30.6 kB/88.7 kB 34%]\r",
      "0% [Release.gpg gpgv 564 B] [11 InRelease 30.6 kB/88.7 kB 34%]"
     ]
    },
    {
     "name": "stdout",
     "output_type": "stream",
     "text": [
      "\r",
      "                                                              \r",
      "0% [11 InRelease 38.3 kB/88.7 kB 43%]\r",
      "0% [9 InRelease gpgv 5483 B] [11 InRelease 38.3 kB/88.7 kB 43%]"
     ]
    },
    {
     "name": "stdout",
     "output_type": "stream",
     "text": [
      "\r",
      "                                                               \r",
      "Err:9 http://packages.cloud.google.com/apt google-cloud-logging-wheezy InRelease\r\n",
      "  The following signatures couldn't be verified because the public key is not available: NO_PUBKEY FEEA9169307EA071 NO_PUBKEY 8B57C5C2836F4BEB\r\n",
      "\r",
      "                                                               \r",
      "0% [11 InRelease 38.3 kB/88.7 kB 43%]\r",
      "0% [10 InRelease gpgv 5419 B] [11 InRelease 38.3 kB/88.7 kB 43%]"
     ]
    },
    {
     "name": "stdout",
     "output_type": "stream",
     "text": [
      "\r",
      "                                                                \r",
      "0% [10 InRelease gpgv 5419 B]\r",
      "                             \r",
      "Err:10 https://packages.cloud.google.com/apt eip-cloud-bionic InRelease\r\n",
      "  The following signatures couldn't be verified because the public key is not available: NO_PUBKEY FEEA9169307EA071 NO_PUBKEY 8B57C5C2836F4BEB\r\n",
      "\r",
      "                             \r",
      "0% [Working]\r",
      "0% [12 InRelease gpgv 10.2 kB]"
     ]
    },
    {
     "name": "stdout",
     "output_type": "stream",
     "text": [
      "\r",
      "                              \r",
      "0% [Working]\r",
      "0% [11 InRelease gpgv 88.7 kB]"
     ]
    },
    {
     "name": "stdout",
     "output_type": "stream",
     "text": [
      "\r",
      "                              \r",
      "0% [Working]\r",
      "            \r",
      "Fetched 101 kB in 1s (99.5 kB/s)\r\n"
     ]
    },
    {
     "name": "stdout",
     "output_type": "stream",
     "text": [
      "\r",
      "Reading package lists... 0%\r",
      "\r",
      "Reading package lists... 0%\r",
      "\r",
      "Reading package lists... 0%\r"
     ]
    },
    {
     "name": "stdout",
     "output_type": "stream",
     "text": [
      "\r",
      "Reading package lists... 3%\r",
      "\r",
      "Reading package lists... 3%\r",
      "\r",
      "Reading package lists... 5%\r",
      "\r",
      "Reading package lists... 5%\r",
      "\r",
      "Reading package lists... 5%\r",
      "\r",
      "Reading package lists... 5%\r",
      "\r",
      "Reading package lists... 5%\r",
      "\r",
      "Reading package lists... 5%\r"
     ]
    },
    {
     "name": "stdout",
     "output_type": "stream",
     "text": [
      "\r",
      "Reading package lists... 37%\r",
      "\r",
      "Reading package lists... 37%\r"
     ]
    },
    {
     "name": "stdout",
     "output_type": "stream",
     "text": [
      "\r",
      "Reading package lists... 53%\r",
      "\r",
      "Reading package lists... 53%\r",
      "\r",
      "Reading package lists... 54%\r",
      "\r",
      "Reading package lists... 54%\r",
      "\r",
      "Reading package lists... 54%\r",
      "\r",
      "Reading package lists... 54%\r"
     ]
    },
    {
     "name": "stdout",
     "output_type": "stream",
     "text": [
      "\r",
      "Reading package lists... 58%\r"
     ]
    },
    {
     "name": "stdout",
     "output_type": "stream",
     "text": [
      "\r",
      "Reading package lists... 62%\r",
      "\r",
      "Reading package lists... 62%\r"
     ]
    },
    {
     "name": "stdout",
     "output_type": "stream",
     "text": [
      "\r",
      "Reading package lists... 67%\r",
      "\r",
      "Reading package lists... 67%\r",
      "\r",
      "Reading package lists... 69%\r",
      "\r",
      "Reading package lists... 69%\r",
      "\r",
      "Reading package lists... 70%\r",
      "\r",
      "Reading package lists... 70%\r"
     ]
    },
    {
     "name": "stdout",
     "output_type": "stream",
     "text": [
      "\r",
      "Reading package lists... 76%\r",
      "\r",
      "Reading package lists... 76%\r",
      "\r",
      "Reading package lists... 79%\r",
      "\r",
      "Reading package lists... 79%\r",
      "\r",
      "Reading package lists... 79%\r",
      "\r",
      "Reading package lists... 79%\r",
      "\r",
      "Reading package lists... 79%\r",
      "\r",
      "Reading package lists... 79%\r",
      "\r",
      "Reading package lists... 79%\r",
      "\r",
      "Reading package lists... 79%\r",
      "\r",
      "Reading package lists... 79%\r",
      "\r",
      "Reading package lists... 79%\r",
      "\r",
      "Reading package lists... 79%\r",
      "\r",
      "Reading package lists... 79%\r",
      "\r",
      "Reading package lists... 79%\r",
      "\r",
      "Reading package lists... 79%\r"
     ]
    },
    {
     "name": "stdout",
     "output_type": "stream",
     "text": [
      "\r",
      "Reading package lists... 85%\r",
      "\r",
      "Reading package lists... 85%\r",
      "\r",
      "Reading package lists... 90%\r",
      "\r",
      "Reading package lists... 90%\r",
      "\r",
      "Reading package lists... 92%\r",
      "\r",
      "Reading package lists... 92%\r",
      "\r",
      "Reading package lists... 93%\r",
      "\r",
      "Reading package lists... 93%\r"
     ]
    },
    {
     "name": "stdout",
     "output_type": "stream",
     "text": [
      "\r",
      "Reading package lists... 97%\r",
      "\r",
      "Reading package lists... 97%\r",
      "\r",
      "Reading package lists... 98%\r",
      "\r",
      "Reading package lists... 98%\r",
      "\r",
      "Reading package lists... 99%\r",
      "\r",
      "Reading package lists... 99%\r",
      "\r",
      "Reading package lists... 99%\r",
      "\r",
      "Reading package lists... 99%\r",
      "\r",
      "Reading package lists... 99%\r",
      "\r",
      "Reading package lists... 99%\r",
      "\r",
      "Reading package lists... 99%\r",
      "\r",
      "Reading package lists... 99%\r",
      "\r",
      "Reading package lists... 99%\r",
      "\r",
      "Reading package lists... 99%\r",
      "\r",
      "Reading package lists... 99%\r",
      "\r",
      "Reading package lists... 99%\r",
      "\r",
      "Reading package lists... 99%\r",
      "\r",
      "Reading package lists... 99%\r",
      "\r",
      "Reading package lists... 99%\r",
      "\r",
      "Reading package lists... 99%\r",
      "\r",
      "Reading package lists... 99%\r",
      "\r",
      "Reading package lists... 99%\r"
     ]
    },
    {
     "name": "stdout",
     "output_type": "stream",
     "text": [
      "\r",
      "Reading package lists... 99%\r",
      "\r",
      "Reading package lists... 99%\r"
     ]
    },
    {
     "name": "stdout",
     "output_type": "stream",
     "text": [
      "\r",
      "Reading package lists... Done\r",
      "\r\n"
     ]
    },
    {
     "name": "stdout",
     "output_type": "stream",
     "text": [
      "W: An error occurred during the signature verification. The repository is not updated and the previous index files will be used. GPG error: http://packages.cloud.google.com/apt google-cloud-logging-wheezy InRelease: The following signatures couldn't be verified because the public key is not available: NO_PUBKEY FEEA9169307EA071 NO_PUBKEY 8B57C5C2836F4BEB\r\n",
      "W: An error occurred during the signature verification. The repository is not updated and the previous index files will be used. GPG error: https://packages.cloud.google.com/apt eip-cloud-bionic InRelease: The following signatures couldn't be verified because the public key is not available: NO_PUBKEY FEEA9169307EA071 NO_PUBKEY 8B57C5C2836F4BEB\r\n",
      "W: Failed to fetch https://packages.cloud.google.com/apt/dists/eip-cloud-bionic/InRelease  The following signatures couldn't be verified because the public key is not available: NO_PUBKEY FEEA9169307EA071 NO_PUBKEY 8B57C5C2836F4BEB\r\n",
      "W: Failed to fetch http://packages.cloud.google.com/apt/dists/google-cloud-logging-wheezy/InRelease  The following signatures couldn't be verified because the public key is not available: NO_PUBKEY FEEA9169307EA071 NO_PUBKEY 8B57C5C2836F4BEB\r\n",
      "W: Some index files failed to download. They have been ignored, or old ones used instead.\r\n"
     ]
    },
    {
     "name": "stdout",
     "output_type": "stream",
     "text": [
      "\r",
      "Reading package lists... 0%\r",
      "\r",
      "Reading package lists... 100%\r",
      "\r",
      "Reading package lists... Done\r",
      "\r\n",
      "\r",
      "Building dependency tree... 0%\r",
      "\r",
      "Building dependency tree... 0%\r"
     ]
    },
    {
     "name": "stdout",
     "output_type": "stream",
     "text": [
      "\r",
      "Building dependency tree... 50%\r",
      "\r",
      "Building dependency tree... 50%\r"
     ]
    },
    {
     "name": "stdout",
     "output_type": "stream",
     "text": [
      "\r",
      "Building dependency tree       \r",
      "\r\n",
      "\r",
      "Reading state information... 0%\r",
      "\r",
      "Reading state information... 0%\r",
      "\r",
      "Reading state information... Done\r",
      "\r\n"
     ]
    },
    {
     "name": "stdout",
     "output_type": "stream",
     "text": [
      "freeglut3-dev is already the newest version (2.8.1-3).\r\n",
      "ffmpeg is already the newest version (7:3.4.8-0ubuntu0.2).\r\n",
      "xvfb is already the newest version (2:1.19.6-1ubuntu4.9).\r\n"
     ]
    },
    {
     "name": "stdout",
     "output_type": "stream",
     "text": [
      "The following packages were automatically installed and are no longer required:\r\n",
      "  linux-gcp-5.4-headers-5.4.0-1040 linux-gcp-5.4-headers-5.4.0-1043\r\n",
      "  linux-gcp-5.4-headers-5.4.0-1044 linux-gcp-5.4-headers-5.4.0-1049\r\n",
      "  linux-headers-5.4.0-1049-gcp linux-image-5.4.0-1049-gcp\r\n",
      "  linux-modules-5.4.0-1044-gcp linux-modules-5.4.0-1049-gcp\r\n",
      "  linux-modules-extra-5.4.0-1049-gcp\r\n",
      "Use 'sudo apt autoremove' to remove them.\r\n"
     ]
    },
    {
     "name": "stdout",
     "output_type": "stream",
     "text": [
      "0 upgraded, 0 newly installed, 0 to remove and 111 not upgraded.\r\n"
     ]
    },
    {
     "name": "stdout",
     "output_type": "stream",
     "text": [
      "Collecting imageio==2.4.0\r\n",
      "  Using cached imageio-2.4.0-py3-none-any.whl\r\n",
      "Requirement already satisfied: pillow in /home/kbuilder/.local/lib/python3.7/site-packages (from imageio==2.4.0) (8.3.2)\r\n",
      "Requirement already satisfied: numpy in /tmpfs/src/tf_docs_env/lib/python3.7/site-packages (from imageio==2.4.0) (1.19.5)\r\n"
     ]
    },
    {
     "name": "stdout",
     "output_type": "stream",
     "text": [
      "Installing collected packages: imageio\r\n",
      "  Attempting uninstall: imageio\r\n",
      "    Found existing installation: imageio 2.9.0\r\n",
      "    Not uninstalling imageio at /home/kbuilder/.local/lib/python3.7/site-packages, outside environment /tmpfs/src/tf_docs_env\r\n",
      "    Can't uninstall 'imageio'. No files were found to uninstall.\r\n"
     ]
    },
    {
     "name": "stdout",
     "output_type": "stream",
     "text": [
      "Successfully installed imageio-2.4.0\r\n"
     ]
    },
    {
     "name": "stdout",
     "output_type": "stream",
     "text": [
      "Collecting pyvirtualdisplay\r\n",
      "  Using cached PyVirtualDisplay-2.2-py3-none-any.whl (15 kB)\r\n"
     ]
    },
    {
     "name": "stdout",
     "output_type": "stream",
     "text": [
      "Collecting EasyProcess\r\n",
      "  Using cached EasyProcess-0.3-py2.py3-none-any.whl (7.9 kB)\r\n"
     ]
    },
    {
     "name": "stdout",
     "output_type": "stream",
     "text": [
      "Installing collected packages: EasyProcess, pyvirtualdisplay\r\n"
     ]
    },
    {
     "name": "stdout",
     "output_type": "stream",
     "text": [
      "Successfully installed EasyProcess-0.3 pyvirtualdisplay-2.2\r\n"
     ]
    },
    {
     "name": "stdout",
     "output_type": "stream",
     "text": [
      "Collecting tf-agents[reverb]\r\n",
      "  Using cached tf_agents-0.10.0-py3-none-any.whl (1.3 MB)\r\n"
     ]
    },
    {
     "name": "stdout",
     "output_type": "stream",
     "text": [
      "Collecting cloudpickle>=1.3\r\n",
      "  Using cached cloudpickle-2.0.0-py3-none-any.whl (25 kB)\r\n"
     ]
    },
    {
     "name": "stdout",
     "output_type": "stream",
     "text": [
      "Collecting tensorflow-probability>=0.13.0\r\n"
     ]
    },
    {
     "name": "stdout",
     "output_type": "stream",
     "text": [
      "  Using cached tensorflow_probability-0.14.0-py2.py3-none-any.whl (5.7 MB)\r\n",
      "Requirement already satisfied: wrapt>=1.11.1 in /tmpfs/src/tf_docs_env/lib/python3.7/site-packages (from tf-agents[reverb]) (1.12.1)\r\n",
      "Requirement already satisfied: six>=1.10.0 in /tmpfs/src/tf_docs_env/lib/python3.7/site-packages (from tf-agents[reverb]) (1.15.0)\r\n"
     ]
    },
    {
     "name": "stdout",
     "output_type": "stream",
     "text": [
      "Collecting gym>=0.17.0\r\n",
      "  Using cached gym-0.20.0-py3-none-any.whl\r\n",
      "Requirement already satisfied: typing-extensions>=3.7.4.3 in /tmpfs/src/tf_docs_env/lib/python3.7/site-packages (from tf-agents[reverb]) (3.7.4.3)\r\n",
      "Requirement already satisfied: pillow in /home/kbuilder/.local/lib/python3.7/site-packages (from tf-agents[reverb]) (8.3.2)\r\n",
      "Collecting gin-config>=0.4.0\r\n"
     ]
    },
    {
     "name": "stdout",
     "output_type": "stream",
     "text": [
      "  Using cached gin_config-0.4.0-py2.py3-none-any.whl (46 kB)\r\n",
      "Requirement already satisfied: absl-py>=0.6.1 in /home/kbuilder/.local/lib/python3.7/site-packages (from tf-agents[reverb]) (0.12.0)\r\n",
      "Requirement already satisfied: numpy>=1.13.3 in /tmpfs/src/tf_docs_env/lib/python3.7/site-packages (from tf-agents[reverb]) (1.19.5)\r\n",
      "Requirement already satisfied: protobuf>=3.11.3 in /home/kbuilder/.local/lib/python3.7/site-packages (from tf-agents[reverb]) (3.18.0)\r\n"
     ]
    },
    {
     "name": "stdout",
     "output_type": "stream",
     "text": [
      "Collecting dm-reverb~=0.5.0\r\n",
      "  Using cached dm_reverb-0.5.0-cp37-cp37m-manylinux2010_x86_64.whl (6.4 MB)\r\n"
     ]
    },
    {
     "name": "stdout",
     "output_type": "stream",
     "text": [
      "Requirement already satisfied: tensorflow~=2.6.0 in /tmpfs/src/tf_docs_env/lib/python3.7/site-packages (from tf-agents[reverb]) (2.6.0)\r\n",
      "Collecting portpicker\r\n"
     ]
    },
    {
     "name": "stdout",
     "output_type": "stream",
     "text": [
      "  Using cached portpicker-1.4.0-py3-none-any.whl (13 kB)\r\n",
      "Collecting dm-tree\r\n",
      "  Using cached dm_tree-0.1.6-cp37-cp37m-manylinux_2_24_x86_64.whl (93 kB)\r\n"
     ]
    },
    {
     "name": "stdout",
     "output_type": "stream",
     "text": [
      "Requirement already satisfied: opt-einsum~=3.3.0 in /tmpfs/src/tf_docs_env/lib/python3.7/site-packages (from tensorflow~=2.6.0->tf-agents[reverb]) (3.3.0)\r\n",
      "Requirement already satisfied: astunparse~=1.6.3 in /tmpfs/src/tf_docs_env/lib/python3.7/site-packages (from tensorflow~=2.6.0->tf-agents[reverb]) (1.6.3)\r\n",
      "Requirement already satisfied: keras-preprocessing~=1.1.2 in /tmpfs/src/tf_docs_env/lib/python3.7/site-packages (from tensorflow~=2.6.0->tf-agents[reverb]) (1.1.2)\r\n",
      "Requirement already satisfied: flatbuffers~=1.12.0 in /tmpfs/src/tf_docs_env/lib/python3.7/site-packages (from tensorflow~=2.6.0->tf-agents[reverb]) (1.12)\r\n",
      "Requirement already satisfied: h5py~=3.1.0 in /tmpfs/src/tf_docs_env/lib/python3.7/site-packages (from tensorflow~=2.6.0->tf-agents[reverb]) (3.1.0)\r\n",
      "Requirement already satisfied: gast==0.4.0 in /tmpfs/src/tf_docs_env/lib/python3.7/site-packages (from tensorflow~=2.6.0->tf-agents[reverb]) (0.4.0)\r\n",
      "Requirement already satisfied: wheel~=0.35 in /tmpfs/src/tf_docs_env/lib/python3.7/site-packages (from tensorflow~=2.6.0->tf-agents[reverb]) (0.37.0)\r\n",
      "Requirement already satisfied: keras~=2.6 in /tmpfs/src/tf_docs_env/lib/python3.7/site-packages (from tensorflow~=2.6.0->tf-agents[reverb]) (2.6.0)\r\n",
      "Requirement already satisfied: clang~=5.0 in /tmpfs/src/tf_docs_env/lib/python3.7/site-packages (from tensorflow~=2.6.0->tf-agents[reverb]) (5.0)\r\n",
      "Requirement already satisfied: tensorflow-estimator~=2.6 in /tmpfs/src/tf_docs_env/lib/python3.7/site-packages (from tensorflow~=2.6.0->tf-agents[reverb]) (2.6.0)\r\n",
      "Requirement already satisfied: grpcio<2.0,>=1.37.0 in /tmpfs/src/tf_docs_env/lib/python3.7/site-packages (from tensorflow~=2.6.0->tf-agents[reverb]) (1.41.0)\r\n",
      "Requirement already satisfied: termcolor~=1.1.0 in /home/kbuilder/.local/lib/python3.7/site-packages (from tensorflow~=2.6.0->tf-agents[reverb]) (1.1.0)\r\n",
      "Requirement already satisfied: tensorboard~=2.6 in /tmpfs/src/tf_docs_env/lib/python3.7/site-packages (from tensorflow~=2.6.0->tf-agents[reverb]) (2.6.0)\r\n",
      "Requirement already satisfied: google-pasta~=0.2 in /tmpfs/src/tf_docs_env/lib/python3.7/site-packages (from tensorflow~=2.6.0->tf-agents[reverb]) (0.2.0)\r\n",
      "Requirement already satisfied: cached-property in /tmpfs/src/tf_docs_env/lib/python3.7/site-packages (from h5py~=3.1.0->tensorflow~=2.6.0->tf-agents[reverb]) (1.5.2)\r\n"
     ]
    },
    {
     "name": "stdout",
     "output_type": "stream",
     "text": [
      "Requirement already satisfied: werkzeug>=0.11.15 in /tmpfs/src/tf_docs_env/lib/python3.7/site-packages (from tensorboard~=2.6->tensorflow~=2.6.0->tf-agents[reverb]) (2.0.1)\r\n",
      "Requirement already satisfied: tensorboard-data-server<0.7.0,>=0.6.0 in /tmpfs/src/tf_docs_env/lib/python3.7/site-packages (from tensorboard~=2.6->tensorflow~=2.6.0->tf-agents[reverb]) (0.6.1)\r\n",
      "Requirement already satisfied: google-auth-oauthlib<0.5,>=0.4.1 in /tmpfs/src/tf_docs_env/lib/python3.7/site-packages (from tensorboard~=2.6->tensorflow~=2.6.0->tf-agents[reverb]) (0.4.6)\r\n",
      "Requirement already satisfied: tensorboard-plugin-wit>=1.6.0 in /tmpfs/src/tf_docs_env/lib/python3.7/site-packages (from tensorboard~=2.6->tensorflow~=2.6.0->tf-agents[reverb]) (1.8.0)\r\n",
      "Requirement already satisfied: requests<3,>=2.21.0 in /home/kbuilder/.local/lib/python3.7/site-packages (from tensorboard~=2.6->tensorflow~=2.6.0->tf-agents[reverb]) (2.26.0)\r\n",
      "Requirement already satisfied: markdown>=2.6.8 in /tmpfs/src/tf_docs_env/lib/python3.7/site-packages (from tensorboard~=2.6->tensorflow~=2.6.0->tf-agents[reverb]) (3.3.4)\r\n",
      "Requirement already satisfied: google-auth<2,>=1.6.3 in /tmpfs/src/tf_docs_env/lib/python3.7/site-packages (from tensorboard~=2.6->tensorflow~=2.6.0->tf-agents[reverb]) (1.35.0)\r\n",
      "Requirement already satisfied: setuptools>=41.0.0 in /tmpfs/src/tf_docs_env/lib/python3.7/site-packages (from tensorboard~=2.6->tensorflow~=2.6.0->tf-agents[reverb]) (58.1.0)\r\n"
     ]
    },
    {
     "name": "stdout",
     "output_type": "stream",
     "text": [
      "Requirement already satisfied: rsa<5,>=3.1.4 in /tmpfs/src/tf_docs_env/lib/python3.7/site-packages (from google-auth<2,>=1.6.3->tensorboard~=2.6->tensorflow~=2.6.0->tf-agents[reverb]) (4.7.2)\r\n",
      "Requirement already satisfied: pyasn1-modules>=0.2.1 in /usr/lib/python3/dist-packages (from google-auth<2,>=1.6.3->tensorboard~=2.6->tensorflow~=2.6.0->tf-agents[reverb]) (0.2.1)\r\n",
      "Requirement already satisfied: cachetools<5.0,>=2.0.0 in /home/kbuilder/.local/lib/python3.7/site-packages (from google-auth<2,>=1.6.3->tensorboard~=2.6->tensorflow~=2.6.0->tf-agents[reverb]) (4.2.2)\r\n",
      "Requirement already satisfied: requests-oauthlib>=0.7.0 in /tmpfs/src/tf_docs_env/lib/python3.7/site-packages (from google-auth-oauthlib<0.5,>=0.4.1->tensorboard~=2.6->tensorflow~=2.6.0->tf-agents[reverb]) (1.3.0)\r\n",
      "Requirement already satisfied: importlib-metadata in /home/kbuilder/.local/lib/python3.7/site-packages (from markdown>=2.6.8->tensorboard~=2.6->tensorflow~=2.6.0->tf-agents[reverb]) (4.8.1)\r\n",
      "Requirement already satisfied: charset-normalizer~=2.0.0 in /home/kbuilder/.local/lib/python3.7/site-packages (from requests<3,>=2.21.0->tensorboard~=2.6->tensorflow~=2.6.0->tf-agents[reverb]) (2.0.6)\r\n",
      "Requirement already satisfied: certifi>=2017.4.17 in /usr/lib/python3/dist-packages (from requests<3,>=2.21.0->tensorboard~=2.6->tensorflow~=2.6.0->tf-agents[reverb]) (2018.1.18)\r\n",
      "Requirement already satisfied: urllib3<1.27,>=1.21.1 in /usr/lib/python3/dist-packages (from requests<3,>=2.21.0->tensorboard~=2.6->tensorflow~=2.6.0->tf-agents[reverb]) (1.22)\r\n",
      "Requirement already satisfied: idna<4,>=2.5 in /usr/lib/python3/dist-packages (from requests<3,>=2.21.0->tensorboard~=2.6->tensorflow~=2.6.0->tf-agents[reverb]) (2.6)\r\n"
     ]
    },
    {
     "name": "stdout",
     "output_type": "stream",
     "text": [
      "Requirement already satisfied: oauthlib>=3.0.0 in /tmpfs/src/tf_docs_env/lib/python3.7/site-packages (from requests-oauthlib>=0.7.0->google-auth-oauthlib<0.5,>=0.4.1->tensorboard~=2.6->tensorflow~=2.6.0->tf-agents[reverb]) (3.1.1)\r\n",
      "Requirement already satisfied: pyasn1>=0.1.3 in /usr/lib/python3/dist-packages (from rsa<5,>=3.1.4->google-auth<2,>=1.6.3->tensorboard~=2.6->tensorflow~=2.6.0->tf-agents[reverb]) (0.4.2)\r\n"
     ]
    },
    {
     "name": "stdout",
     "output_type": "stream",
     "text": [
      "Requirement already satisfied: decorator in /home/kbuilder/.local/lib/python3.7/site-packages (from tensorflow-probability>=0.13.0->tf-agents[reverb]) (5.1.0)\r\n"
     ]
    },
    {
     "name": "stdout",
     "output_type": "stream",
     "text": [
      "Requirement already satisfied: zipp>=0.5 in /home/kbuilder/.local/lib/python3.7/site-packages (from importlib-metadata->markdown>=2.6.8->tensorboard~=2.6->tensorflow~=2.6.0->tf-agents[reverb]) (3.5.1)\r\n"
     ]
    },
    {
     "name": "stdout",
     "output_type": "stream",
     "text": [
      "Installing collected packages: dm-tree, cloudpickle, tensorflow-probability, portpicker, gym, gin-config, tf-agents, dm-reverb\r\n"
     ]
    },
    {
     "name": "stdout",
     "output_type": "stream",
     "text": [
      "Successfully installed cloudpickle-2.0.0 dm-reverb-0.5.0 dm-tree-0.1.6 gin-config-0.4.0 gym-0.20.0 portpicker-1.4.0 tensorflow-probability-0.14.0 tf-agents-0.10.0\r\n"
     ]
    },
    {
     "name": "stdout",
     "output_type": "stream",
     "text": [
      "Requirement already satisfied: pyglet in /home/kbuilder/.local/lib/python3.7/site-packages (1.5.21)\r\n"
     ]
    }
   ],
   "source": [
    "!sudo apt-get update\n",
    "!sudo apt-get install -y xvfb ffmpeg freeglut3-dev\n",
    "!pip install 'imageio==2.4.0'\n",
    "!pip install pyvirtualdisplay\n",
    "!pip install tf-agents[reverb]\n",
    "!pip install pyglet"
   ]
  },
  {
   "cell_type": "code",
   "execution_count": 3,
   "metadata": {
    "execution": {
     "iopub.execute_input": "2021-09-29T12:18:26.459143Z",
     "iopub.status.busy": "2021-09-29T12:18:26.458377Z",
     "iopub.status.idle": "2021-09-29T12:18:28.978630Z",
     "shell.execute_reply": "2021-09-29T12:18:28.979073Z"
    },
    "id": "sMitx5qSgJk1"
   },
   "outputs": [],
   "source": [
    "from __future__ import absolute_import, division, print_function\n",
    "\n",
    "import base64\n",
    "import imageio\n",
    "import IPython\n",
    "import matplotlib\n",
    "import matplotlib.pyplot as plt\n",
    "import numpy as np\n",
    "import PIL.Image\n",
    "import pyvirtualdisplay\n",
    "import reverb\n",
    "\n",
    "import tensorflow as tf\n",
    "\n",
    "from tf_agents.agents.dqn import dqn_agent\n",
    "from tf_agents.drivers import py_driver\n",
    "from tf_agents.environments import suite_gym\n",
    "from tf_agents.environments import tf_py_environment\n",
    "from tf_agents.eval import metric_utils\n",
    "from tf_agents.metrics import tf_metrics\n",
    "from tf_agents.networks import sequential\n",
    "from tf_agents.policies import py_tf_eager_policy\n",
    "from tf_agents.policies import random_tf_policy\n",
    "from tf_agents.replay_buffers import reverb_replay_buffer\n",
    "from tf_agents.replay_buffers import reverb_utils\n",
    "from tf_agents.trajectories import trajectory\n",
    "from tf_agents.specs import tensor_spec\n",
    "from tf_agents.utils import common"
   ]
  },
  {
   "cell_type": "code",
   "execution_count": 4,
   "metadata": {
    "execution": {
     "iopub.execute_input": "2021-09-29T12:18:28.988837Z",
     "iopub.status.busy": "2021-09-29T12:18:28.983226Z",
     "iopub.status.idle": "2021-09-29T12:18:29.051303Z",
     "shell.execute_reply": "2021-09-29T12:18:29.051762Z"
    },
    "id": "J6HsdS5GbSjd"
   },
   "outputs": [],
   "source": [
    "# Set up a virtual display for rendering OpenAI gym environments.\n",
    "display = pyvirtualdisplay.Display(visible=0, size=(1400, 900)).start()"
   ]
  },
  {
   "cell_type": "code",
   "execution_count": 5,
   "metadata": {
    "execution": {
     "iopub.execute_input": "2021-09-29T12:18:29.059432Z",
     "iopub.status.busy": "2021-09-29T12:18:29.058733Z",
     "iopub.status.idle": "2021-09-29T12:18:29.061537Z",
     "shell.execute_reply": "2021-09-29T12:18:29.061945Z"
    },
    "id": "NspmzG4nP3b9"
   },
   "outputs": [
    {
     "data": {
      "text/plain": [
       "'2.6.0'"
      ]
     },
     "execution_count": 5,
     "metadata": {},
     "output_type": "execute_result"
    }
   ],
   "source": [
    "tf.version.VERSION"
   ]
  },
  {
   "cell_type": "markdown",
   "metadata": {
    "id": "LmC0NDhdLIKY"
   },
   "source": [
    "## Hyperparameters"
   ]
  },
  {
   "cell_type": "code",
   "execution_count": 6,
   "metadata": {
    "execution": {
     "iopub.execute_input": "2021-09-29T12:18:29.067093Z",
     "iopub.status.busy": "2021-09-29T12:18:29.066347Z",
     "iopub.status.idle": "2021-09-29T12:18:29.068583Z",
     "shell.execute_reply": "2021-09-29T12:18:29.068116Z"
    },
    "id": "HC1kNrOsLSIZ"
   },
   "outputs": [],
   "source": [
    "num_iterations = 20000 # @param {type:\"integer\"}\n",
    "\n",
    "initial_collect_steps = 100  # @param {type:\"integer\"}\n",
    "collect_steps_per_iteration =   1# @param {type:\"integer\"}\n",
    "replay_buffer_max_length = 100000  # @param {type:\"integer\"}\n",
    "\n",
    "batch_size = 64  # @param {type:\"integer\"}\n",
    "learning_rate = 1e-3  # @param {type:\"number\"}\n",
    "log_interval = 200  # @param {type:\"integer\"}\n",
    "\n",
    "num_eval_episodes = 10  # @param {type:\"integer\"}\n",
    "eval_interval = 1000  # @param {type:\"integer\"}"
   ]
  },
  {
   "cell_type": "markdown",
   "metadata": {
    "id": "VMsJC3DEgI0x"
   },
   "source": [
    "## Environment\n",
    "\n",
    "In Reinforcement Learning (RL), an environment represents the task or problem to be solved. Standard environments can be created in TF-Agents using `tf_agents.environments` suites. TF-Agents has suites for loading environments from sources such as the OpenAI Gym, Atari, and DM Control.\n",
    "\n",
    "Load the CartPole environment from the OpenAI Gym suite. "
   ]
  },
  {
   "cell_type": "code",
   "execution_count": 7,
   "metadata": {
    "execution": {
     "iopub.execute_input": "2021-09-29T12:18:29.072624Z",
     "iopub.status.busy": "2021-09-29T12:18:29.071999Z",
     "iopub.status.idle": "2021-09-29T12:18:29.079030Z",
     "shell.execute_reply": "2021-09-29T12:18:29.078449Z"
    },
    "id": "pYEz-S9gEv2-"
   },
   "outputs": [],
   "source": [
    "env_name = 'CartPole-v0'\n",
    "env = suite_gym.load(env_name)"
   ]
  },
  {
   "cell_type": "markdown",
   "metadata": {
    "id": "IIHYVBkuvPNw"
   },
   "source": [
    "You can render this environment to see how it looks. A free-swinging pole is attached to a cart.  The goal is to move the cart right or left in order to keep the pole pointing up."
   ]
  },
  {
   "cell_type": "code",
   "execution_count": 8,
   "metadata": {
    "execution": {
     "iopub.execute_input": "2021-09-29T12:18:29.084007Z",
     "iopub.status.busy": "2021-09-29T12:18:29.083346Z",
     "iopub.status.idle": "2021-09-29T12:18:29.656202Z",
     "shell.execute_reply": "2021-09-29T12:18:29.655645Z"
    },
    "id": "RlO7WIQHu_7D"
   },
   "outputs": [
    {
     "data": {
      "image/png": "[encoded data removed]",
      "text/plain": [
       "<PIL.Image.Image image mode=RGB size=600x400 at 0x7F3D110EE710>"
      ]
     },
     "execution_count": 8,
     "metadata": {},
     "output_type": "execute_result"
    }
   ],
   "source": [
    "#@test {\"skip\": true}\n",
    "env.reset()\n",
    "PIL.Image.fromarray(env.render())"
   ]
  },
  {
   "cell_type": "markdown",
   "metadata": {
    "id": "B9_lskPOey18"
   },
   "source": [
    "The `environment.step` method takes an `action` in the environment and returns a `TimeStep` tuple containing the next observation of the environment and the reward for the action.\n",
    "\n",
    "The `time_step_spec()` method returns the specification for the `TimeStep` tuple. Its `observation` attribute shows the shape of observations, the data types, and the ranges of allowed values. The `reward` attribute shows the same details for the reward.\n"
   ]
  },
  {
   "cell_type": "code",
   "execution_count": 9,
   "metadata": {
    "execution": {
     "iopub.execute_input": "2021-09-29T12:18:29.666514Z",
     "iopub.status.busy": "2021-09-29T12:18:29.665846Z",
     "iopub.status.idle": "2021-09-29T12:18:29.668705Z",
     "shell.execute_reply": "2021-09-29T12:18:29.668199Z"
    },
    "id": "exDv57iHfwQV"
   },
   "outputs": [
    {
     "name": "stdout",
     "output_type": "stream",
     "text": [
      "Observation Spec:\n",
      "BoundedArraySpec(shape=(4,), dtype=dtype('float32'), name='observation', minimum=[-4.8000002e+00 -3.4028235e+38 -4.1887903e-01 -3.4028235e+38], maximum=[4.8000002e+00 3.4028235e+38 4.1887903e-01 3.4028235e+38])\n"
     ]
    }
   ],
   "source": [
    "print('Observation Spec:')\n",
    "print(env.time_step_spec().observation)"
   ]
  },
  {
   "cell_type": "code",
   "execution_count": 10,
   "metadata": {
    "execution": {
     "iopub.execute_input": "2021-09-29T12:18:29.673630Z",
     "iopub.status.busy": "2021-09-29T12:18:29.672934Z",
     "iopub.status.idle": "2021-09-29T12:18:29.676023Z",
     "shell.execute_reply": "2021-09-29T12:18:29.675527Z"
    },
    "id": "UxiSyCbBUQPi"
   },
   "outputs": [
    {
     "name": "stdout",
     "output_type": "stream",
     "text": [
      "Reward Spec:\n",
      "ArraySpec(shape=(), dtype=dtype('float32'), name='reward')\n"
     ]
    }
   ],
   "source": [
    "print('Reward Spec:')\n",
    "print(env.time_step_spec().reward)"
   ]
  },
  {
   "cell_type": "markdown",
   "metadata": {
    "id": "b_lHcIcqUaqB"
   },
   "source": [
    "The `action_spec()` method returns the shape, data types, and allowed values of valid actions."
   ]
  },
  {
   "cell_type": "code",
   "execution_count": 11,
   "metadata": {
    "execution": {
     "iopub.execute_input": "2021-09-29T12:18:29.680665Z",
     "iopub.status.busy": "2021-09-29T12:18:29.679897Z",
     "iopub.status.idle": "2021-09-29T12:18:29.682489Z",
     "shell.execute_reply": "2021-09-29T12:18:29.682921Z"
    },
    "id": "bttJ4uxZUQBr"
   },
   "outputs": [
    {
     "name": "stdout",
     "output_type": "stream",
     "text": [
      "Action Spec:\n",
      "BoundedArraySpec(shape=(), dtype=dtype('int64'), name='action', minimum=0, maximum=1)\n"
     ]
    }
   ],
   "source": [
    "print('Action Spec:')\n",
    "print(env.action_spec())"
   ]
  },
  {
   "cell_type": "markdown",
   "metadata": {
    "id": "eJCgJnx3g0yY"
   },
   "source": [
    "In the Cartpole environment:\n",
    "\n",
    "-   `observation` is an array of 4 floats: \n",
    "    -   the position and velocity of the cart\n",
    "    -   the angular position and velocity of the pole \n",
    "-   `reward` is a scalar float value\n",
    "-   `action` is a scalar integer with only two possible values:\n",
    "    -   `0` — \"move left\"\n",
    "    -   `1` — \"move right\"\n"
   ]
  },
  {
   "cell_type": "code",
   "execution_count": 12,
   "metadata": {
    "execution": {
     "iopub.execute_input": "2021-09-29T12:18:29.691706Z",
     "iopub.status.busy": "2021-09-29T12:18:29.690994Z",
     "iopub.status.idle": "2021-09-29T12:18:29.693556Z",
     "shell.execute_reply": "2021-09-29T12:18:29.693968Z"
    },
    "id": "V2UGR5t_iZX-"
   },
   "outputs": [
    {
     "name": "stdout",
     "output_type": "stream",
     "text": [
      "Time step:\n",
      "TimeStep(\n",
      "{'discount': array(1., dtype=float32),\n",
      " 'observation': array([-0.02109759, -0.00062286,  0.04167245, -0.03825747], dtype=float32),\n",
      " 'reward': array(0., dtype=float32),\n",
      " 'step_type': array(0, dtype=int32)})\n",
      "Next time step:\n",
      "TimeStep(\n",
      "{'discount': array(1., dtype=float32),\n",
      " 'observation': array([-0.02111005,  0.1938775 ,  0.0409073 , -0.31750655], dtype=float32),\n",
      " 'reward': array(1., dtype=float32),\n",
      " 'step_type': array(1, dtype=int32)})\n"
     ]
    }
   ],
   "source": [
    "time_step = env.reset()\n",
    "print('Time step:')\n",
    "print(time_step)\n",
    "\n",
    "action = np.array(1, dtype=np.int32)\n",
    "\n",
    "next_time_step = env.step(action)\n",
    "print('Next time step:')\n",
    "print(next_time_step)"
   ]
  },
  {
   "cell_type": "markdown",
   "metadata": {
    "id": "4JSc9GviWUBK"
   },
   "source": [
    "Usually two environments are instantiated: one for training and one for evaluation. "
   ]
  },
  {
   "cell_type": "code",
   "execution_count": 13,
   "metadata": {
    "execution": {
     "iopub.execute_input": "2021-09-29T12:18:29.700960Z",
     "iopub.status.busy": "2021-09-29T12:18:29.699585Z",
     "iopub.status.idle": "2021-09-29T12:18:29.702765Z",
     "shell.execute_reply": "2021-09-29T12:18:29.703225Z"
    },
    "id": "N7brXNIGWXjC"
   },
   "outputs": [],
   "source": [
    "train_py_env = suite_gym.load(env_name)\n",
    "eval_py_env = suite_gym.load(env_name)"
   ]
  },
  {
   "cell_type": "markdown",
   "metadata": {
    "id": "zuUqXAVmecTU"
   },
   "source": [
    "The Cartpole environment, like most environments, is written in pure Python. This is converted to TensorFlow using the `TFPyEnvironment` wrapper.\n",
    "\n",
    "The original environment's API uses Numpy arrays. The `TFPyEnvironment` converts these to `Tensors` to make it compatible with Tensorflow agents and policies.\n"
   ]
  },
  {
   "cell_type": "code",
   "execution_count": 14,
   "metadata": {
    "execution": {
     "iopub.execute_input": "2021-09-29T12:18:29.709094Z",
     "iopub.status.busy": "2021-09-29T12:18:29.708120Z",
     "iopub.status.idle": "2021-09-29T12:18:29.714433Z",
     "shell.execute_reply": "2021-09-29T12:18:29.713860Z"
    },
    "id": "Xp-Y4mD6eDhF"
   },
   "outputs": [],
   "source": [
    "train_env = tf_py_environment.TFPyEnvironment(train_py_env)\n",
    "eval_env = tf_py_environment.TFPyEnvironment(eval_py_env)"
   ]
  },
  {
   "cell_type": "markdown",
   "metadata": {
    "id": "E9lW_OZYFR8A"
   },
   "source": [
    "## Agent\n",
    "\n",
    "The algorithm used to solve an RL problem is represented by an `Agent`. TF-Agents provides standard implementations of a variety of `Agents`, including:\n",
    "\n",
    "-   [DQN](https://storage.googleapis.com/deepmind-media/dqn/DQNNaturePaper.pdf) (used in this tutorial)\n",
    "-   [REINFORCE](https://www-anw.cs.umass.edu/~barto/courses/cs687/williams92simple.pdf)\n",
    "-   [DDPG](https://arxiv.org/pdf/1509.02971.pdf)\n",
    "-   [TD3](https://arxiv.org/pdf/1802.09477.pdf)\n",
    "-   [PPO](https://arxiv.org/abs/1707.06347)\n",
    "-   [SAC](https://arxiv.org/abs/1801.01290)\n",
    "\n",
    "The DQN agent can be used in any environment which has a discrete action space.\n",
    "\n",
    "At the heart of a DQN Agent is a `QNetwork`, a neural network model that can learn to predict `QValues` (expected returns) for all actions, given an observation from the environment.\n",
    "\n",
    "We will use `tf_agents.networks.` to create a `QNetwork`. The network will consist of a sequence of `tf.keras.layers.Dense` layers, where the final layer will have 1 output for each possible action."
   ]
  },
  {
   "cell_type": "code",
   "execution_count": 15,
   "metadata": {
    "execution": {
     "iopub.execute_input": "2021-09-29T12:18:29.723529Z",
     "iopub.status.busy": "2021-09-29T12:18:29.721782Z",
     "iopub.status.idle": "2021-09-29T12:18:29.741288Z",
     "shell.execute_reply": "2021-09-29T12:18:29.741683Z"
    },
    "id": "TgkdEPg_muzV"
   },
   "outputs": [],
   "source": [
    "fc_layer_params = (100, 50)\n",
    "action_tensor_spec = tensor_spec.from_spec(env.action_spec())\n",
    "num_actions = action_tensor_spec.maximum - action_tensor_spec.minimum + 1\n",
    "\n",
    "# Define a helper function to create Dense layers configured with the right\n",
    "# activation and kernel initializer.\n",
    "def dense_layer(num_units):\n",
    "  return tf.keras.layers.Dense(\n",
    "      num_units,\n",
    "      activation=tf.keras.activations.relu,\n",
    "      kernel_initializer=tf.keras.initializers.VarianceScaling(\n",
    "          scale=2.0, mode='fan_in', distribution='truncated_normal'))\n",
    "\n",
    "# QNetwork consists of a sequence of Dense layers followed by a dense layer\n",
    "# with `num_actions` units to generate one q_value per available action as\n",
    "# its output.\n",
    "dense_layers = [dense_layer(num_units) for num_units in fc_layer_params]\n",
    "q_values_layer = tf.keras.layers.Dense(\n",
    "    num_actions,\n",
    "    activation=None,\n",
    "    kernel_initializer=tf.keras.initializers.RandomUniform(\n",
    "        minval=-0.03, maxval=0.03),\n",
    "    bias_initializer=tf.keras.initializers.Constant(-0.2))\n",
    "q_net = sequential.Sequential(dense_layers + [q_values_layer])"
   ]
  },
  {
   "cell_type": "markdown",
   "metadata": {
    "id": "z62u55hSmviJ"
   },
   "source": [
    "Now use `tf_agents.agents.dqn.dqn_agent` to instantiate a `DqnAgent`. In addition to the `time_step_spec`, `action_spec` and the QNetwork, the agent constructor also requires an optimizer (in this case, `AdamOptimizer`), a loss function, and an integer step counter."
   ]
  },
  {
   "cell_type": "code",
   "execution_count": 16,
   "metadata": {
    "execution": {
     "iopub.execute_input": "2021-09-29T12:18:31.430740Z",
     "iopub.status.busy": "2021-09-29T12:18:31.126752Z",
     "iopub.status.idle": "2021-09-29T12:18:31.892899Z",
     "shell.execute_reply": "2021-09-29T12:18:31.892316Z"
    },
    "id": "jbY4yrjTEyc9"
   },
   "outputs": [],
   "source": [
    "optimizer = tf.keras.optimizers.Adam(learning_rate=learning_rate)\n",
    "\n",
    "train_step_counter = tf.Variable(0)\n",
    "\n",
    "agent = dqn_agent.DqnAgent(\n",
    "    train_env.time_step_spec(),\n",
    "    train_env.action_spec(),\n",
    "    q_network=q_net,\n",
    "    optimizer=optimizer,\n",
    "    td_errors_loss_fn=common.element_wise_squared_loss,\n",
    "    train_step_counter=train_step_counter)\n",
    "\n",
    "agent.initialize()"
   ]
  },
  {
   "cell_type": "markdown",
   "metadata": {
    "id": "I0KLrEPwkn5x"
   },
   "source": [
    "## Policies\n",
    "\n",
    "A policy defines the way an agent acts in an environment. Typically, the goal of reinforcement learning is to train the underlying model until the policy produces the desired outcome.\n",
    "\n",
    "In this tutorial:\n",
    "\n",
    "-   The desired outcome is keeping the pole balanced upright over the cart.\n",
    "-   The policy returns an action (left or right) for each `time_step` observation.\n",
    "\n",
    "Agents contain two policies: \n",
    "\n",
    "-   `agent.policy` — The main policy that is used for evaluation and deployment.\n",
    "-   `agent.collect_policy` — A second policy that is used for data collection.\n"
   ]
  },
  {
   "cell_type": "code",
   "execution_count": 17,
   "metadata": {
    "execution": {
     "iopub.execute_input": "2021-09-29T12:18:31.897610Z",
     "iopub.status.busy": "2021-09-29T12:18:31.896972Z",
     "iopub.status.idle": "2021-09-29T12:18:31.899396Z",
     "shell.execute_reply": "2021-09-29T12:18:31.898941Z"
    },
    "id": "BwY7StuMkuV4"
   },
   "outputs": [],
   "source": [
    "eval_policy = agent.policy\n",
    "collect_policy = agent.collect_policy"
   ]
  },
  {
   "cell_type": "markdown",
   "metadata": {
    "id": "2Qs1Fl3dV0ae"
   },
   "source": [
    "Policies can be created independently of agents. For example, use `tf_agents.policies.random_tf_policy` to create a policy which will randomly select an action for each `time_step`."
   ]
  },
  {
   "cell_type": "code",
   "execution_count": 18,
   "metadata": {
    "execution": {
     "iopub.execute_input": "2021-09-29T12:18:31.904090Z",
     "iopub.status.busy": "2021-09-29T12:18:31.903426Z",
     "iopub.status.idle": "2021-09-29T12:18:31.905901Z",
     "shell.execute_reply": "2021-09-29T12:18:31.905428Z"
    },
    "id": "HE37-UCIrE69"
   },
   "outputs": [],
   "source": [
    "random_policy = random_tf_policy.RandomTFPolicy(train_env.time_step_spec(),\n",
    "                                                train_env.action_spec())"
   ]
  },
  {
   "cell_type": "markdown",
   "metadata": {
    "id": "dOlnlRRsUbxP"
   },
   "source": [
    "To get an action from a policy, call the `policy.action(time_step)` method. The `time_step` contains the observation from the environment. This method returns a `PolicyStep`, which is a named tuple with three components:\n",
    "\n",
    "-   `action` — the action to be taken (in this case, `0` or `1`)\n",
    "-   `state` — used for stateful (that is, RNN-based) policies\n",
    "-   `info` — auxiliary data, such as log probabilities of actions"
   ]
  },
  {
   "cell_type": "code",
   "execution_count": 19,
   "metadata": {
    "execution": {
     "iopub.execute_input": "2021-09-29T12:18:31.912250Z",
     "iopub.status.busy": "2021-09-29T12:18:31.911622Z",
     "iopub.status.idle": "2021-09-29T12:18:31.915308Z",
     "shell.execute_reply": "2021-09-29T12:18:31.914860Z"
    },
    "id": "5gCcpXswVAxk"
   },
   "outputs": [],
   "source": [
    "example_environment = tf_py_environment.TFPyEnvironment(\n",
    "    suite_gym.load('CartPole-v0'))"
   ]
  },
  {
   "cell_type": "code",
   "execution_count": 20,
   "metadata": {
    "execution": {
     "iopub.execute_input": "2021-09-29T12:18:31.920437Z",
     "iopub.status.busy": "2021-09-29T12:18:31.919763Z",
     "iopub.status.idle": "2021-09-29T12:18:31.922888Z",
     "shell.execute_reply": "2021-09-29T12:18:31.922412Z"
    },
    "id": "D4DHZtq3Ndis"
   },
   "outputs": [],
   "source": [
    "time_step = example_environment.reset()"
   ]
  },
  {
   "cell_type": "code",
   "execution_count": 21,
   "metadata": {
    "execution": {
     "iopub.execute_input": "2021-09-29T12:18:31.927772Z",
     "iopub.status.busy": "2021-09-29T12:18:31.926565Z",
     "iopub.status.idle": "2021-09-29T12:18:31.933402Z",
     "shell.execute_reply": "2021-09-29T12:18:31.932954Z"
    },
    "id": "PRFqAUzpNaAW"
   },
   "outputs": [
    {
     "data": {
      "text/plain": [
       "PolicyStep(action=<tf.Tensor: shape=(1,), dtype=int64, numpy=array([1])>, state=(), info=())"
      ]
     },
     "execution_count": 21,
     "metadata": {},
     "output_type": "execute_result"
    }
   ],
   "source": [
    "random_policy.action(time_step)"
   ]
  },
  {
   "cell_type": "markdown",
   "metadata": {
    "id": "94rCXQtbUbXv"
   },
   "source": [
    "## Metrics and Evaluation\n",
    "\n",
    "The most common metric used to evaluate a policy is the average return. The return is the sum of rewards obtained while running a policy in an environment for an episode. Several episodes are run, creating an average return.\n",
    "\n",
    "The following function computes the average return of a policy, given the policy, environment, and a number of episodes.\n"
   ]
  },
  {
   "cell_type": "code",
   "execution_count": 22,
   "metadata": {
    "execution": {
     "iopub.execute_input": "2021-09-29T12:18:31.938973Z",
     "iopub.status.busy": "2021-09-29T12:18:31.938317Z",
     "iopub.status.idle": "2021-09-29T12:18:31.940967Z",
     "shell.execute_reply": "2021-09-29T12:18:31.940505Z"
    },
    "id": "bitzHo5_UbXy"
   },
   "outputs": [],
   "source": [
    "#@test {\"skip\": true}\n",
    "def compute_avg_return(environment, policy, num_episodes=10):\n",
    "\n",
    "  total_return = 0.0\n",
    "  for _ in range(num_episodes):\n",
    "\n",
    "    time_step = environment.reset()\n",
    "    episode_return = 0.0\n",
    "\n",
    "    while not time_step.is_last():\n",
    "      action_step = policy.action(time_step)\n",
    "      time_step = environment.step(action_step.action)\n",
    "      episode_return += time_step.reward\n",
    "    total_return += episode_return\n",
    "\n",
    "  avg_return = total_return / num_episodes\n",
    "  return avg_return.numpy()[0]\n",
    "\n",
    "\n",
    "# See also the metrics module for standard implementations of different metrics.\n",
    "# https://github.com/tensorflow/agents/tree/master/tf_agents/metrics"
   ]
  },
  {
   "cell_type": "markdown",
   "metadata": {
    "id": "_snCVvq5Z8lJ"
   },
   "source": [
    "Running this computation on the `random_policy` shows a baseline performance in the environment."
   ]
  },
  {
   "cell_type": "code",
   "execution_count": 23,
   "metadata": {
    "execution": {
     "iopub.execute_input": "2021-09-29T12:18:31.946328Z",
     "iopub.status.busy": "2021-09-29T12:18:31.945713Z",
     "iopub.status.idle": "2021-09-29T12:18:32.524300Z",
     "shell.execute_reply": "2021-09-29T12:18:32.524733Z"
    },
    "id": "9bgU6Q6BZ8Bp"
   },
   "outputs": [
    {
     "data": {
      "text/plain": [
       "20.7"
      ]
     },
     "execution_count": 23,
     "metadata": {},
     "output_type": "execute_result"
    }
   ],
   "source": [
    "compute_avg_return(eval_env, random_policy, num_eval_episodes)"
   ]
  },
  {
   "cell_type": "markdown",
   "metadata": {
    "id": "NLva6g2jdWgr"
   },
   "source": [
    "## Replay Buffer\n",
    "\n",
    "In order to keep track of the data collected from the environment, we will use [Reverb](https://deepmind.com/research/open-source/Reverb), an efficient, extensible, and easy-to-use replay system by Deepmind. It stores experience data when we collect trajectories and is consumed during training.\n",
    "\n",
    "This replay buffer is constructed using specs describing the tensors that are to be stored, which can be obtained from the agent using agent.collect_data_spec.\n"
   ]
  },
  {
   "cell_type": "code",
   "execution_count": 24,
   "metadata": {
    "execution": {
     "iopub.execute_input": "2021-09-29T12:18:32.534098Z",
     "iopub.status.busy": "2021-09-29T12:18:32.533425Z",
     "iopub.status.idle": "2021-09-29T12:18:32.592073Z",
     "shell.execute_reply": "2021-09-29T12:18:32.591585Z"
    },
    "id": "vX2zGUWJGWAl"
   },
   "outputs": [
    {
     "name": "stderr",
     "output_type": "stream",
     "text": [
      "[reverb/cc/platform/tfrecord_checkpointer.cc:150]  Initializing TFRecordCheckpointer in /tmp/tmpcz7e0i7c.\n",
      "[reverb/cc/platform/tfrecord_checkpointer.cc:385] Loading latest checkpoint from /tmp/tmpcz7e0i7c\n",
      "[reverb/cc/platform/default/server.cc:71] Started replay server on port 21909\n"
     ]
    }
   ],
   "source": [
    "table_name = 'uniform_table'\n",
    "replay_buffer_signature = tensor_spec.from_spec(\n",
    "      agent.collect_data_spec)\n",
    "replay_buffer_signature = tensor_spec.add_outer_dim(\n",
    "    replay_buffer_signature)\n",
    "\n",
    "table = reverb.Table(\n",
    "    table_name,\n",
    "    max_size=replay_buffer_max_length,\n",
    "    sampler=reverb.selectors.Uniform(),\n",
    "    remover=reverb.selectors.Fifo(),\n",
    "    rate_limiter=reverb.rate_limiters.MinSize(1),\n",
    "    signature=replay_buffer_signature)\n",
    "\n",
    "reverb_server = reverb.Server([table])\n",
    "\n",
    "replay_buffer = reverb_replay_buffer.ReverbReplayBuffer(\n",
    "    agent.collect_data_spec,\n",
    "    table_name=table_name,\n",
    "    sequence_length=2,\n",
    "    local_server=reverb_server)\n",
    "\n",
    "rb_observer = reverb_utils.ReverbAddTrajectoryObserver(\n",
    "  replay_buffer.py_client,\n",
    "  table_name,\n",
    "  sequence_length=2)"
   ]
  },
  {
   "cell_type": "markdown",
   "metadata": {
    "id": "ZGNTDJpZs4NN"
   },
   "source": [
    "For most agents, `collect_data_spec` is a named tuple called `Trajectory`, containing the specs for observations, actions, rewards, and other items."
   ]
  },
  {
   "cell_type": "code",
   "execution_count": 25,
   "metadata": {
    "execution": {
     "iopub.execute_input": "2021-09-29T12:18:32.599179Z",
     "iopub.status.busy": "2021-09-29T12:18:32.598443Z",
     "iopub.status.idle": "2021-09-29T12:18:32.602124Z",
     "shell.execute_reply": "2021-09-29T12:18:32.601537Z"
    },
    "id": "_IZ-3HcqgE1z"
   },
   "outputs": [
    {
     "data": {
      "text/plain": [
       "Trajectory(\n",
       "{'action': BoundedTensorSpec(shape=(), dtype=tf.int64, name='action', minimum=array(0), maximum=array(1)),\n",
       " 'discount': BoundedTensorSpec(shape=(), dtype=tf.float32, name='discount', minimum=array(0., dtype=float32), maximum=array(1., dtype=float32)),\n",
       " 'next_step_type': TensorSpec(shape=(), dtype=tf.int32, name='step_type'),\n",
       " 'observation': BoundedTensorSpec(shape=(4,), dtype=tf.float32, name='observation', minimum=array([-4.8000002e+00, -3.4028235e+38, -4.1887903e-01, -3.4028235e+38],\n",
       "      dtype=float32), maximum=array([4.8000002e+00, 3.4028235e+38, 4.1887903e-01, 3.4028235e+38],\n",
       "      dtype=float32)),\n",
       " 'policy_info': (),\n",
       " 'reward': TensorSpec(shape=(), dtype=tf.float32, name='reward'),\n",
       " 'step_type': TensorSpec(shape=(), dtype=tf.int32, name='step_type')})"
      ]
     },
     "execution_count": 25,
     "metadata": {},
     "output_type": "execute_result"
    }
   ],
   "source": [
    "agent.collect_data_spec"
   ]
  },
  {
   "cell_type": "code",
   "execution_count": 26,
   "metadata": {
    "execution": {
     "iopub.execute_input": "2021-09-29T12:18:32.606800Z",
     "iopub.status.busy": "2021-09-29T12:18:32.606124Z",
     "iopub.status.idle": "2021-09-29T12:18:32.609584Z",
     "shell.execute_reply": "2021-09-29T12:18:32.609122Z"
    },
    "id": "sy6g1tGcfRlw"
   },
   "outputs": [
    {
     "data": {
      "text/plain": [
       "('step_type',\n",
       " 'observation',\n",
       " 'action',\n",
       " 'policy_info',\n",
       " 'next_step_type',\n",
       " 'reward',\n",
       " 'discount')"
      ]
     },
     "execution_count": 26,
     "metadata": {},
     "output_type": "execute_result"
    }
   ],
   "source": [
    "agent.collect_data_spec._fields"
   ]
  },
  {
   "cell_type": "markdown",
   "metadata": {
    "id": "rVD5nQ9ZGo8_"
   },
   "source": [
    "## Data Collection\n",
    "\n",
    "Now execute the random policy in the environment for a few steps, recording the data in the replay buffer.\n",
    "\n",
    "Here we are using 'PyDriver' to run the experience collecting loop. You can learn more about TF Agents driver in our [drivers tutorial](https://www.tensorflow.org/agents/tutorials/4_drivers_tutorial)."
   ]
  },
  {
   "cell_type": "code",
   "execution_count": 27,
   "metadata": {
    "execution": {
     "iopub.execute_input": "2021-09-29T12:18:32.620962Z",
     "iopub.status.busy": "2021-09-29T12:18:32.620324Z",
     "iopub.status.idle": "2021-09-29T12:18:32.846174Z",
     "shell.execute_reply": "2021-09-29T12:18:32.846597Z"
    },
    "id": "wr1KSAEGG4h9"
   },
   "outputs": [
    {
     "data": {
      "text/plain": [
       "(TimeStep(\n",
       " {'discount': array(1., dtype=float32),\n",
       "  'observation': array([ 0.04100575,  0.16847703, -0.12718087, -0.6300714 ], dtype=float32),\n",
       "  'reward': array(1., dtype=float32),\n",
       "  'step_type': array(1, dtype=int32)}),\n",
       " ())"
      ]
     },
     "execution_count": 27,
     "metadata": {},
     "output_type": "execute_result"
    }
   ],
   "source": [
    "#@test {\"skip\": true}\n",
    "py_driver.PyDriver(\n",
    "    env,\n",
    "    py_tf_eager_policy.PyTFEagerPolicy(\n",
    "      random_policy, use_tf_function=True),\n",
    "    [rb_observer],\n",
    "    max_steps=initial_collect_steps).run(train_py_env.reset())"
   ]
  },
  {
   "cell_type": "markdown",
   "metadata": {
    "id": "84z5pQJdoKxo"
   },
   "source": [
    "The replay buffer is now a collection of Trajectories."
   ]
  },
  {
   "cell_type": "code",
   "execution_count": 28,
   "metadata": {
    "execution": {
     "iopub.execute_input": "2021-09-29T12:18:32.851051Z",
     "iopub.status.busy": "2021-09-29T12:18:32.850261Z",
     "iopub.status.idle": "2021-09-29T12:18:32.852779Z",
     "shell.execute_reply": "2021-09-29T12:18:32.852288Z"
    },
    "id": "4wZnLu2ViO4E"
   },
   "outputs": [],
   "source": [
    "# For the curious:\n",
    "# Uncomment to peel one of these off and inspect it.\n",
    "# iter(replay_buffer.as_dataset()).next()"
   ]
  },
  {
   "cell_type": "markdown",
   "metadata": {
    "id": "TujU-PMUsKjS"
   },
   "source": [
    "The agent needs access to the replay buffer. This is provided by creating an iterable `tf.data.Dataset` pipeline which will feed data to the agent.\n",
    "\n",
    "Each row of the replay buffer only stores a single observation step. But since the DQN Agent needs both the current and next observation to compute the loss, the dataset pipeline will sample two adjacent rows for each item in the batch (`num_steps=2`).\n",
    "\n",
    "This dataset is also optimized by running parallel calls and prefetching data."
   ]
  },
  {
   "cell_type": "code",
   "execution_count": 29,
   "metadata": {
    "execution": {
     "iopub.execute_input": "2021-09-29T12:18:32.886246Z",
     "iopub.status.busy": "2021-09-29T12:18:32.870593Z",
     "iopub.status.idle": "2021-09-29T12:18:33.193567Z",
     "shell.execute_reply": "2021-09-29T12:18:33.193043Z"
    },
    "id": "ba7bilizt_qW"
   },
   "outputs": [
    {
     "data": {
      "text/plain": [
       "<PrefetchDataset shapes: (Trajectory(\n",
       "{action: (64, 2),\n",
       " discount: (64, 2),\n",
       " next_step_type: (64, 2),\n",
       " observation: (64, 2, 4),\n",
       " policy_info: (),\n",
       " reward: (64, 2),\n",
       " step_type: (64, 2)}), SampleInfo(key=(64, 2), probability=(64, 2), table_size=(64, 2), priority=(64, 2))), types: (Trajectory(\n",
       "{action: tf.int64,\n",
       " discount: tf.float32,\n",
       " next_step_type: tf.int32,\n",
       " observation: tf.float32,\n",
       " policy_info: (),\n",
       " reward: tf.float32,\n",
       " step_type: tf.int32}), SampleInfo(key=tf.uint64, probability=tf.float64, table_size=tf.int64, priority=tf.float64))>"
      ]
     },
     "execution_count": 29,
     "metadata": {},
     "output_type": "execute_result"
    }
   ],
   "source": [
    "# Dataset generates trajectories with shape [Bx2x...]\n",
    "dataset = replay_buffer.as_dataset(\n",
    "    num_parallel_calls=3,\n",
    "    sample_batch_size=batch_size,\n",
    "    num_steps=2).prefetch(3)\n",
    "\n",
    "dataset"
   ]
  },
  {
   "cell_type": "code",
   "execution_count": 30,
   "metadata": {
    "execution": {
     "iopub.execute_input": "2021-09-29T12:18:33.198233Z",
     "iopub.status.busy": "2021-09-29T12:18:33.197570Z",
     "iopub.status.idle": "2021-09-29T12:18:33.250249Z",
     "shell.execute_reply": "2021-09-29T12:18:33.249705Z"
    },
    "id": "K13AST-2ppOq"
   },
   "outputs": [
    {
     "name": "stdout",
     "output_type": "stream",
     "text": [
      "<tensorflow.python.data.ops.iterator_ops.OwnedIterator object at 0x7f3cec38cd90>\n"
     ]
    }
   ],
   "source": [
    "iterator = iter(dataset)\n",
    "print(iterator)"
   ]
  },
  {
   "cell_type": "code",
   "execution_count": 31,
   "metadata": {
    "execution": {
     "iopub.execute_input": "2021-09-29T12:18:33.254566Z",
     "iopub.status.busy": "2021-09-29T12:18:33.253844Z",
     "iopub.status.idle": "2021-09-29T12:18:33.255982Z",
     "shell.execute_reply": "2021-09-29T12:18:33.256368Z"
    },
    "id": "Th5w5Sff0b16"
   },
   "outputs": [],
   "source": [
    "# For the curious:\n",
    "# Uncomment to see what the dataset iterator is feeding to the agent.\n",
    "# Compare this representation of replay data \n",
    "# to the collection of individual trajectories shown earlier.\n",
    "\n",
    "# iterator.next()"
   ]
  },
  {
   "cell_type": "markdown",
   "metadata": {
    "id": "hBc9lj9VWWtZ"
   },
   "source": [
    "## Training the agent\n",
    "\n",
    "Two things must happen during the training loop:\n",
    "\n",
    "-   collect data from the environment\n",
    "-   use that data to train the agent's neural network(s)\n",
    "\n",
    "This example also periodicially evaluates the policy and prints the current score.\n",
    "\n",
    "The following will take ~5 minutes to run."
   ]
  },
  {
   "cell_type": "code",
   "execution_count": 32,
   "metadata": {
    "execution": {
     "iopub.execute_input": "2021-09-29T12:18:33.268155Z",
     "iopub.status.busy": "2021-09-29T12:18:33.266196Z",
     "iopub.status.idle": "2021-09-29T12:23:32.202553Z",
     "shell.execute_reply": "2021-09-29T12:23:32.201984Z"
    },
    "id": "0pTbJ3PeyF-u"
   },
   "outputs": [
    {
     "name": "stdout",
     "output_type": "stream",
     "text": [
      "WARNING:tensorflow:From /tmpfs/src/tf_docs_env/lib/python3.7/site-packages/tensorflow/python/util/dispatch.py:206: calling foldr_v2 (from tensorflow.python.ops.functional_ops) with back_prop=False is deprecated and will be removed in a future version.\n",
      "Instructions for updating:\n",
      "back_prop=False is deprecated. Consider using tf.stop_gradient instead.\n",
      "Instead of:\n",
      "results = tf.foldr(fn, elems, back_prop=False)\n",
      "Use:\n",
      "results = tf.nest.map_structure(tf.stop_gradient, tf.foldr(fn, elems))\n"
     ]
    },
    {
     "name": "stderr",
     "output_type": "stream",
     "text": [
      "[reverb/cc/client.cc:163] Sampler and server are owned by the same process (15446) so Table uniform_table is accessed directly without gRPC.\n",
      "[reverb/cc/client.cc:163] Sampler and server are owned by the same process (15446) so Table uniform_table is accessed directly without gRPC.\n",
      "[reverb/cc/client.cc:163] Sampler and server are owned by the same process (15446) so Table uniform_table is accessed directly without gRPC.\n",
      "[reverb/cc/client.cc:163] Sampler and server are owned by the same process (15446) so Table uniform_table is accessed directly without gRPC.\n",
      "[reverb/cc/client.cc:163] Sampler and server are owned by the same process (15446) so Table uniform_table is accessed directly without gRPC.\n",
      "[reverb/cc/client.cc:163] Sampler and server are owned by the same process (15446) so Table uniform_table is accessed directly without gRPC.\n"
     ]
    },
    {
     "name": "stdout",
     "output_type": "stream",
     "text": [
      "step = 200: loss = 27.080341339111328\n"
     ]
    },
    {
     "name": "stdout",
     "output_type": "stream",
     "text": [
      "step = 400: loss = 3.0314550399780273\n"
     ]
    },
    {
     "name": "stdout",
     "output_type": "stream",
     "text": [
      "step = 600: loss = 470.9187927246094\n"
     ]
    },
    {
     "name": "stdout",
     "output_type": "stream",
     "text": [
      "step = 800: loss = 548.7870483398438\n"
     ]
    },
    {
     "name": "stdout",
     "output_type": "stream",
     "text": [
      "step = 1000: loss = 4315.17578125\n"
     ]
    },
    {
     "name": "stdout",
     "output_type": "stream",
     "text": [
      "step = 1000: Average Return = 48.400001525878906\n"
     ]
    },
    {
     "name": "stdout",
     "output_type": "stream",
     "text": [
      "step = 1200: loss = 5297.24853515625\n"
     ]
    },
    {
     "name": "stdout",
     "output_type": "stream",
     "text": [
      "step = 1400: loss = 11601.296875\n"
     ]
    },
    {
     "name": "stdout",
     "output_type": "stream",
     "text": [
      "step = 1600: loss = 60482.578125\n"
     ]
    },
    {
     "name": "stdout",
     "output_type": "stream",
     "text": [
      "step = 1800: loss = 802764.8125\n"
     ]
    },
    {
     "name": "stdout",
     "output_type": "stream",
     "text": [
      "step = 2000: loss = 1689283.0\n"
     ]
    },
    {
     "name": "stdout",
     "output_type": "stream",
     "text": [
      "step = 2000: Average Return = 63.400001525878906\n"
     ]
    },
    {
     "name": "stdout",
     "output_type": "stream",
     "text": [
      "step = 2200: loss = 4928921.0\n"
     ]
    },
    {
     "name": "stdout",
     "output_type": "stream",
     "text": [
      "step = 2400: loss = 5508345.0\n"
     ]
    },
    {
     "name": "stdout",
     "output_type": "stream",
     "text": [
      "step = 2600: loss = 17888162.0\n"
     ]
    },
    {
     "name": "stdout",
     "output_type": "stream",
     "text": [
      "step = 2800: loss = 23993148.0\n"
     ]
    },
    {
     "name": "stdout",
     "output_type": "stream",
     "text": [
      "step = 3000: loss = 10192765.0\n"
     ]
    },
    {
     "name": "stdout",
     "output_type": "stream",
     "text": [
      "step = 3000: Average Return = 74.0999984741211\n"
     ]
    },
    {
     "name": "stdout",
     "output_type": "stream",
     "text": [
      "step = 3200: loss = 88318176.0\n"
     ]
    },
    {
     "name": "stdout",
     "output_type": "stream",
     "text": [
      "step = 3400: loss = 77485728.0\n"
     ]
    },
    {
     "name": "stdout",
     "output_type": "stream",
     "text": [
      "step = 3600: loss = 3236693504.0\n"
     ]
    },
    {
     "name": "stdout",
     "output_type": "stream",
     "text": [
      "step = 3800: loss = 102289840.0\n"
     ]
    },
    {
     "name": "stdout",
     "output_type": "stream",
     "text": [
      "step = 4000: loss = 168594496.0\n"
     ]
    },
    {
     "name": "stdout",
     "output_type": "stream",
     "text": [
      "step = 4000: Average Return = 73.5999984741211\n"
     ]
    },
    {
     "name": "stdout",
     "output_type": "stream",
     "text": [
      "step = 4200: loss = 348990528.0\n"
     ]
    },
    {
     "name": "stdout",
     "output_type": "stream",
     "text": [
      "step = 4400: loss = 101819664.0\n"
     ]
    },
    {
     "name": "stdout",
     "output_type": "stream",
     "text": [
      "step = 4600: loss = 136486208.0\n"
     ]
    },
    {
     "name": "stdout",
     "output_type": "stream",
     "text": [
      "step = 4800: loss = 133454864.0\n"
     ]
    },
    {
     "name": "stdout",
     "output_type": "stream",
     "text": [
      "step = 5000: loss = 592934784.0\n"
     ]
    },
    {
     "name": "stdout",
     "output_type": "stream",
     "text": [
      "step = 5000: Average Return = 71.5999984741211\n"
     ]
    },
    {
     "name": "stdout",
     "output_type": "stream",
     "text": [
      "step = 5200: loss = 216909120.0\n"
     ]
    },
    {
     "name": "stdout",
     "output_type": "stream",
     "text": [
      "step = 5400: loss = 181369648.0\n"
     ]
    },
    {
     "name": "stdout",
     "output_type": "stream",
     "text": [
      "step = 5600: loss = 600455680.0\n"
     ]
    },
    {
     "name": "stdout",
     "output_type": "stream",
     "text": [
      "step = 5800: loss = 551183744.0\n"
     ]
    },
    {
     "name": "stdout",
     "output_type": "stream",
     "text": [
      "step = 6000: loss = 368749824.0\n"
     ]
    },
    {
     "name": "stdout",
     "output_type": "stream",
     "text": [
      "step = 6000: Average Return = 83.5\n"
     ]
    },
    {
     "name": "stdout",
     "output_type": "stream",
     "text": [
      "step = 6200: loss = 1010418176.0\n"
     ]
    },
    {
     "name": "stdout",
     "output_type": "stream",
     "text": [
      "step = 6400: loss = 171257856.0\n"
     ]
    },
    {
     "name": "stdout",
     "output_type": "stream",
     "text": [
      "step = 6600: loss = 115424904.0\n"
     ]
    },
    {
     "name": "stdout",
     "output_type": "stream",
     "text": [
      "step = 6800: loss = 144941152.0\n"
     ]
    },
    {
     "name": "stdout",
     "output_type": "stream",
     "text": [
      "step = 7000: loss = 257932752.0\n"
     ]
    },
    {
     "name": "stdout",
     "output_type": "stream",
     "text": [
      "step = 7000: Average Return = 107.0\n"
     ]
    },
    {
     "name": "stdout",
     "output_type": "stream",
     "text": [
      "step = 7200: loss = 854109248.0\n"
     ]
    },
    {
     "name": "stdout",
     "output_type": "stream",
     "text": [
      "step = 7400: loss = 95970128.0\n"
     ]
    },
    {
     "name": "stdout",
     "output_type": "stream",
     "text": [
      "step = 7600: loss = 325583744.0\n"
     ]
    },
    {
     "name": "stdout",
     "output_type": "stream",
     "text": [
      "step = 7800: loss = 858134016.0\n"
     ]
    },
    {
     "name": "stdout",
     "output_type": "stream",
     "text": [
      "step = 8000: loss = 197960128.0\n"
     ]
    },
    {
     "name": "stdout",
     "output_type": "stream",
     "text": [
      "step = 8000: Average Return = 124.19999694824219\n"
     ]
    },
    {
     "name": "stdout",
     "output_type": "stream",
     "text": [
      "step = 8200: loss = 310187552.0\n"
     ]
    },
    {
     "name": "stdout",
     "output_type": "stream",
     "text": [
      "step = 8400: loss = 572293760.0\n"
     ]
    },
    {
     "name": "stdout",
     "output_type": "stream",
     "text": [
      "step = 8600: loss = 2338323456.0\n"
     ]
    },
    {
     "name": "stdout",
     "output_type": "stream",
     "text": [
      "step = 8800: loss = 384659392.0\n"
     ]
    },
    {
     "name": "stdout",
     "output_type": "stream",
     "text": [
      "step = 9000: loss = 676924544.0\n"
     ]
    },
    {
     "name": "stdout",
     "output_type": "stream",
     "text": [
      "step = 9000: Average Return = 200.0\n"
     ]
    },
    {
     "name": "stdout",
     "output_type": "stream",
     "text": [
      "step = 9200: loss = 946199168.0\n"
     ]
    },
    {
     "name": "stdout",
     "output_type": "stream",
     "text": [
      "step = 9400: loss = 605189504.0\n"
     ]
    },
    {
     "name": "stdout",
     "output_type": "stream",
     "text": [
      "step = 9600: loss = 768988928.0\n"
     ]
    },
    {
     "name": "stdout",
     "output_type": "stream",
     "text": [
      "step = 9800: loss = 508231776.0\n"
     ]
    },
    {
     "name": "stdout",
     "output_type": "stream",
     "text": [
      "step = 10000: loss = 526518016.0\n"
     ]
    },
    {
     "name": "stdout",
     "output_type": "stream",
     "text": [
      "step = 10000: Average Return = 200.0\n"
     ]
    },
    {
     "name": "stdout",
     "output_type": "stream",
     "text": [
      "step = 10200: loss = 1461528704.0\n"
     ]
    },
    {
     "name": "stdout",
     "output_type": "stream",
     "text": [
      "step = 10400: loss = 709822016.0\n"
     ]
    },
    {
     "name": "stdout",
     "output_type": "stream",
     "text": [
      "step = 10600: loss = 2770553344.0\n"
     ]
    },
    {
     "name": "stdout",
     "output_type": "stream",
     "text": [
      "step = 10800: loss = 496421504.0\n"
     ]
    },
    {
     "name": "stdout",
     "output_type": "stream",
     "text": [
      "step = 11000: loss = 1822116864.0\n"
     ]
    },
    {
     "name": "stdout",
     "output_type": "stream",
     "text": [
      "step = 11000: Average Return = 200.0\n"
     ]
    },
    {
     "name": "stdout",
     "output_type": "stream",
     "text": [
      "step = 11200: loss = 744854208.0\n"
     ]
    },
    {
     "name": "stdout",
     "output_type": "stream",
     "text": [
      "step = 11400: loss = 778800384.0\n"
     ]
    },
    {
     "name": "stdout",
     "output_type": "stream",
     "text": [
      "step = 11600: loss = 667049216.0\n"
     ]
    },
    {
     "name": "stdout",
     "output_type": "stream",
     "text": [
      "step = 11800: loss = 586587648.0\n"
     ]
    },
    {
     "name": "stdout",
     "output_type": "stream",
     "text": [
      "step = 12000: loss = 2586833920.0\n"
     ]
    },
    {
     "name": "stdout",
     "output_type": "stream",
     "text": [
      "step = 12000: Average Return = 200.0\n"
     ]
    },
    {
     "name": "stdout",
     "output_type": "stream",
     "text": [
      "step = 12200: loss = 1002041472.0\n"
     ]
    },
    {
     "name": "stdout",
     "output_type": "stream",
     "text": [
      "step = 12400: loss = 1526919552.0\n"
     ]
    },
    {
     "name": "stdout",
     "output_type": "stream",
     "text": [
      "step = 12600: loss = 1670877056.0\n"
     ]
    },
    {
     "name": "stdout",
     "output_type": "stream",
     "text": [
      "step = 12800: loss = 1857608704.0\n"
     ]
    },
    {
     "name": "stdout",
     "output_type": "stream",
     "text": [
      "step = 13000: loss = 1040727936.0\n"
     ]
    },
    {
     "name": "stdout",
     "output_type": "stream",
     "text": [
      "step = 13000: Average Return = 200.0\n"
     ]
    },
    {
     "name": "stdout",
     "output_type": "stream",
     "text": [
      "step = 13200: loss = 1807798656.0\n"
     ]
    },
    {
     "name": "stdout",
     "output_type": "stream",
     "text": [
      "step = 13400: loss = 1457996544.0\n"
     ]
    },
    {
     "name": "stdout",
     "output_type": "stream",
     "text": [
      "step = 13600: loss = 1322671616.0\n"
     ]
    },
    {
     "name": "stdout",
     "output_type": "stream",
     "text": [
      "step = 13800: loss = 22940983296.0\n"
     ]
    },
    {
     "name": "stdout",
     "output_type": "stream",
     "text": [
      "step = 14000: loss = 1556422912.0\n"
     ]
    },
    {
     "name": "stdout",
     "output_type": "stream",
     "text": [
      "step = 14000: Average Return = 200.0\n"
     ]
    },
    {
     "name": "stdout",
     "output_type": "stream",
     "text": [
      "step = 14200: loss = 2488473600.0\n"
     ]
    },
    {
     "name": "stdout",
     "output_type": "stream",
     "text": [
      "step = 14400: loss = 46558289920.0\n"
     ]
    },
    {
     "name": "stdout",
     "output_type": "stream",
     "text": [
      "step = 14600: loss = 1958968960.0\n"
     ]
    },
    {
     "name": "stdout",
     "output_type": "stream",
     "text": [
      "step = 14800: loss = 4677744640.0\n"
     ]
    },
    {
     "name": "stdout",
     "output_type": "stream",
     "text": [
      "step = 15000: loss = 1648418304.0\n"
     ]
    },
    {
     "name": "stdout",
     "output_type": "stream",
     "text": [
      "step = 15000: Average Return = 200.0\n"
     ]
    },
    {
     "name": "stdout",
     "output_type": "stream",
     "text": [
      "step = 15200: loss = 46132723712.0\n"
     ]
    },
    {
     "name": "stdout",
     "output_type": "stream",
     "text": [
      "step = 15400: loss = 2189093888.0\n"
     ]
    },
    {
     "name": "stdout",
     "output_type": "stream",
     "text": [
      "step = 15600: loss = 1204941056.0\n"
     ]
    },
    {
     "name": "stdout",
     "output_type": "stream",
     "text": [
      "step = 15800: loss = 1578462080.0\n"
     ]
    },
    {
     "name": "stdout",
     "output_type": "stream",
     "text": [
      "step = 16000: loss = 1695949312.0\n"
     ]
    },
    {
     "name": "stdout",
     "output_type": "stream",
     "text": [
      "step = 16000: Average Return = 200.0\n"
     ]
    },
    {
     "name": "stdout",
     "output_type": "stream",
     "text": [
      "step = 16200: loss = 19554553856.0\n"
     ]
    },
    {
     "name": "stdout",
     "output_type": "stream",
     "text": [
      "step = 16400: loss = 2857277184.0\n"
     ]
    },
    {
     "name": "stdout",
     "output_type": "stream",
     "text": [
      "step = 16600: loss = 5782225408.0\n"
     ]
    },
    {
     "name": "stdout",
     "output_type": "stream",
     "text": [
      "step = 16800: loss = 2294467072.0\n"
     ]
    },
    {
     "name": "stdout",
     "output_type": "stream",
     "text": [
      "step = 17000: loss = 2397877248.0\n"
     ]
    },
    {
     "name": "stdout",
     "output_type": "stream",
     "text": [
      "step = 17000: Average Return = 200.0\n"
     ]
    },
    {
     "name": "stdout",
     "output_type": "stream",
     "text": [
      "step = 17200: loss = 2910329088.0\n"
     ]
    },
    {
     "name": "stdout",
     "output_type": "stream",
     "text": [
      "step = 17400: loss = 6317301760.0\n"
     ]
    },
    {
     "name": "stdout",
     "output_type": "stream",
     "text": [
      "step = 17600: loss = 2733602048.0\n"
     ]
    },
    {
     "name": "stdout",
     "output_type": "stream",
     "text": [
      "step = 17800: loss = 32502740992.0\n"
     ]
    },
    {
     "name": "stdout",
     "output_type": "stream",
     "text": [
      "step = 18000: loss = 6295858688.0\n"
     ]
    },
    {
     "name": "stdout",
     "output_type": "stream",
     "text": [
      "step = 18000: Average Return = 200.0\n"
     ]
    },
    {
     "name": "stdout",
     "output_type": "stream",
     "text": [
      "step = 18200: loss = 2564860160.0\n"
     ]
    },
    {
     "name": "stdout",
     "output_type": "stream",
     "text": [
      "step = 18400: loss = 76450430976.0\n"
     ]
    },
    {
     "name": "stdout",
     "output_type": "stream",
     "text": [
      "step = 18600: loss = 6347636736.0\n"
     ]
    },
    {
     "name": "stdout",
     "output_type": "stream",
     "text": [
      "step = 18800: loss = 6258629632.0\n"
     ]
    },
    {
     "name": "stdout",
     "output_type": "stream",
     "text": [
      "step = 19000: loss = 8091572224.0\n"
     ]
    },
    {
     "name": "stdout",
     "output_type": "stream",
     "text": [
      "step = 19000: Average Return = 200.0\n"
     ]
    },
    {
     "name": "stdout",
     "output_type": "stream",
     "text": [
      "step = 19200: loss = 3860335616.0\n"
     ]
    },
    {
     "name": "stdout",
     "output_type": "stream",
     "text": [
      "step = 19400: loss = 3552561152.0\n"
     ]
    },
    {
     "name": "stdout",
     "output_type": "stream",
     "text": [
      "step = 19600: loss = 4175943424.0\n"
     ]
    },
    {
     "name": "stdout",
     "output_type": "stream",
     "text": [
      "step = 19800: loss = 5975838720.0\n"
     ]
    },
    {
     "name": "stdout",
     "output_type": "stream",
     "text": [
      "step = 20000: loss = 4709884928.0\n"
     ]
    },
    {
     "name": "stdout",
     "output_type": "stream",
     "text": [
      "step = 20000: Average Return = 200.0\n"
     ]
    }
   ],
   "source": [
    "#@test {\"skip\": true}\n",
    "try:\n",
    "  %%time\n",
    "except:\n",
    "  pass\n",
    "\n",
    "# (Optional) Optimize by wrapping some of the code in a graph using TF function.\n",
    "agent.train = common.function(agent.train)\n",
    "\n",
    "# Reset the train step.\n",
    "agent.train_step_counter.assign(0)\n",
    "\n",
    "# Evaluate the agent's policy once before training.\n",
    "avg_return = compute_avg_return(eval_env, agent.policy, num_eval_episodes)\n",
    "returns = [avg_return]\n",
    "\n",
    "# Reset the environment.\n",
    "time_step = train_py_env.reset()\n",
    "\n",
    "# Create a driver to collect experience.\n",
    "collect_driver = py_driver.PyDriver(\n",
    "    env,\n",
    "    py_tf_eager_policy.PyTFEagerPolicy(\n",
    "      agent.collect_policy, use_tf_function=True),\n",
    "    [rb_observer],\n",
    "    max_steps=collect_steps_per_iteration)\n",
    "\n",
    "for _ in range(num_iterations):\n",
    "\n",
    "  # Collect a few steps and save to the replay buffer.\n",
    "  time_step, _ = collect_driver.run(time_step)\n",
    "\n",
    "  # Sample a batch of data from the buffer and update the agent's network.\n",
    "  experience, unused_info = next(iterator)\n",
    "  train_loss = agent.train(experience).loss\n",
    "\n",
    "  step = agent.train_step_counter.numpy()\n",
    "\n",
    "  if step % log_interval == 0:\n",
    "    print('step = {0}: loss = {1}'.format(step, train_loss))\n",
    "\n",
    "  if step % eval_interval == 0:\n",
    "    avg_return = compute_avg_return(eval_env, agent.policy, num_eval_episodes)\n",
    "    print('step = {0}: Average Return = {1}'.format(step, avg_return))\n",
    "    returns.append(avg_return)"
   ]
  },
  {
   "cell_type": "markdown",
   "metadata": {
    "id": "68jNcA_TiJDq"
   },
   "source": [
    "## Visualization\n"
   ]
  },
  {
   "cell_type": "markdown",
   "metadata": {
    "id": "aO-LWCdbbOIC"
   },
   "source": [
    "### Plots\n",
    "\n",
    "Use `matplotlib.pyplot` to chart how the policy improved during training.\n",
    "\n",
    "One iteration of `Cartpole-v0` consists of 200 time steps. The environment gives a reward of `+1` for each step the pole stays up, so the maximum return for one episode is 200. The charts shows the return increasing towards that maximum each time it is evaluated during training. (It may be a little unstable and not increase monotonically each time.)"
   ]
  },
  {
   "cell_type": "code",
   "execution_count": 33,
   "metadata": {
    "execution": {
     "iopub.execute_input": "2021-09-29T12:23:32.231411Z",
     "iopub.status.busy": "2021-09-29T12:23:32.220717Z",
     "iopub.status.idle": "2021-09-29T12:23:32.428018Z",
     "shell.execute_reply": "2021-09-29T12:23:32.427468Z"
    },
    "id": "NxtL1mbOYCVO"
   },
   "outputs": [
    {
     "data": {
      "text/plain": [
       "(40.82000160217285, 250.0)"
      ]
     },
     "execution_count": 33,
     "metadata": {},
     "output_type": "execute_result"
    },
    {
     "data": {
      "image/png": "[encoded data removed]",
      "text/plain": [
       "<Figure size 432x288 with 1 Axes>"
      ]
     },
     "metadata": {
      "needs_background": "light"
     },
     "output_type": "display_data"
    }
   ],
   "source": [
    "#@test {\"skip\": true}\n",
    "\n",
    "iterations = range(0, num_iterations + 1, eval_interval)\n",
    "plt.plot(iterations, returns)\n",
    "plt.ylabel('Average Return')\n",
    "plt.xlabel('Iterations')\n",
    "plt.ylim(top=250)"
   ]
  },
  {
   "cell_type": "markdown",
   "metadata": {
    "id": "M7-XpPP99Cy7"
   },
   "source": [
    "### Videos"
   ]
  },
  {
   "cell_type": "markdown",
   "metadata": {
    "id": "9pGfGxSH32gn"
   },
   "source": [
    "Charts are nice. But more exciting is seeing an agent actually performing a task in an environment. \n",
    "\n",
    "First, create a function to embed videos in the notebook."
   ]
  },
  {
   "cell_type": "code",
   "execution_count": 34,
   "metadata": {
    "execution": {
     "iopub.execute_input": "2021-09-29T12:23:32.434701Z",
     "iopub.status.busy": "2021-09-29T12:23:32.433890Z",
     "iopub.status.idle": "2021-09-29T12:23:32.436117Z",
     "shell.execute_reply": "2021-09-29T12:23:32.436506Z"
    },
    "id": "ULaGr8pvOKbl"
   },
   "outputs": [],
   "source": [
    "def embed_mp4(filename):\n",
    "  \"\"\"Embeds an mp4 file in the notebook.\"\"\"\n",
    "  video = open(filename,'rb').read()\n",
    "  b64 = base64.b64encode(video)\n",
    "  tag = '''\n",
    "  <video width=\"640\" height=\"480\" controls>\n",
    "    <source src=\"data:video/mp4;base64,{0}\" type=\"video/mp4\">\n",
    "  Your browser does not support the video tag.\n",
    "  </video>'''.format(b64.decode())\n",
    "\n",
    "  return IPython.display.HTML(tag)"
   ]
  },
  {
   "cell_type": "markdown",
   "metadata": {
    "id": "9c_PH-pX4Pr5"
   },
   "source": [
    "Now iterate through a few episodes of the Cartpole game with the agent. The underlying Python environment (the one \"inside\" the TensorFlow environment wrapper) provides a `render()` method, which outputs an image of the environment state. These can be collected into a video."
   ]
  },
  {
   "cell_type": "code",
   "execution_count": 35,
   "metadata": {
    "execution": {
     "iopub.execute_input": "2021-09-29T12:23:32.443717Z",
     "iopub.status.busy": "2021-09-29T12:23:32.443004Z",
     "iopub.status.idle": "2021-09-29T12:23:47.319237Z",
     "shell.execute_reply": "2021-09-29T12:23:47.319732Z"
    },
    "id": "owOVWB158NlF"
   },
   "outputs": [
    {
     "name": "stderr",
     "output_type": "stream",
     "text": [
      "WARNING:root:IMAGEIO FFMPEG_WRITER WARNING: input image is not divisible by macro_block_size=16, resizing from (400, 600) to (400, 608) to ensure video compatibility with most codecs and players. To prevent resizing, make your input image divisible by the macro_block_size or set the macro_block_size to None (risking incompatibility). You may also see a FFMPEG warning concerning speedloss due to data not being aligned.\n"
     ]
    },
    {
     "name": "stderr",
     "output_type": "stream",
     "text": [
      "[swscaler @ 0x55d99fdf83c0] Warning: data is not aligned! This can lead to a speed loss\n"
     ]
    },
    {
     "data": {
      "text/html": [
       "\n",
       "  <video width=\"640\" height=\"480\" controls>\n",
       "    <source src=\"data:video/mp4;base64,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\" type=\"video/mp4\">\n",
       "  Your browser does not support the video tag.\n",
       "  </video>"
      ],
      "text/plain": [
       "<IPython.core.display.HTML object>"
      ]
     },
     "execution_count": 35,
     "metadata": {},
     "output_type": "execute_result"
    }
   ],
   "source": [
    "def create_policy_eval_video(policy, filename, num_episodes=5, fps=30):\n",
    "  filename = filename + \".mp4\"\n",
    "  with imageio.get_writer(filename, fps=fps) as video:\n",
    "    for _ in range(num_episodes):\n",
    "      time_step = eval_env.reset()\n",
    "      video.append_data(eval_py_env.render())\n",
    "      while not time_step.is_last():\n",
    "        action_step = policy.action(time_step)\n",
    "        time_step = eval_env.step(action_step.action)\n",
    "        video.append_data(eval_py_env.render())\n",
    "  return embed_mp4(filename)\n",
    "\n",
    "create_policy_eval_video(agent.policy, \"trained-agent\")"
   ]
  },
  {
   "cell_type": "markdown",
   "metadata": {
    "id": "povaAOcZygLw"
   },
   "source": [
    "For fun, compare the trained agent (above) to an agent moving randomly. (It does not do as well.)"
   ]
  },
  {
   "cell_type": "code",
   "execution_count": 36,
   "metadata": {
    "execution": {
     "iopub.execute_input": "2021-09-29T12:23:47.327774Z",
     "iopub.status.busy": "2021-09-29T12:23:47.326987Z",
     "iopub.status.idle": "2021-09-29T12:23:48.494204Z",
     "shell.execute_reply": "2021-09-29T12:23:48.493663Z"
    },
    "id": "pJZIdC37yNH4"
   },
   "outputs": [
    {
     "name": "stderr",
     "output_type": "stream",
     "text": [
      "WARNING:root:IMAGEIO FFMPEG_WRITER WARNING: input image is not divisible by macro_block_size=16, resizing from (400, 600) to (400, 608) to ensure video compatibility with most codecs and players. To prevent resizing, make your input image divisible by the macro_block_size or set the macro_block_size to None (risking incompatibility). You may also see a FFMPEG warning concerning speedloss due to data not being aligned.\n"
     ]
    },
    {
     "name": "stderr",
     "output_type": "stream",
     "text": [
      "[swscaler @ 0x55ffa7fe73c0] Warning: data is not aligned! This can lead to a speed loss\n"
     ]
    },
    {
     "data": {
      "text/html": [
       "\n",
       "  <video width=\"640\" height=\"480\" controls>\n",
       "    <source src=\"data:video/mp4;base64,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\" type=\"video/mp4\">\n",
       "  Your browser does not support the video tag.\n",
       "  </video>"
      ],
      "text/plain": [
       "<IPython.core.display.HTML object>"
      ]
     },
     "execution_count": 36,
     "metadata": {},
     "output_type": "execute_result"
    }
   ],
   "source": [
    "create_policy_eval_video(random_policy, \"random-agent\")"
   ]
  }
 ],
 "metadata": {
  "colab": {
   "collapsed_sections": [],
   "name": "DQN Tutorial.ipynb",
   "private_outputs": true,
   "provenance": [],
   "toc_visible": true
  },
  "kernelspec": {
   "display_name": "Python 3",
   "language": "python",
   "name": "python3"
  },
  "language_info": {
   "codemirror_mode": {
    "name": "ipython",
    "version": 3
   },
   "file_extension": ".py",
   "mimetype": "text/x-python",
   "name": "python",
   "nbconvert_exporter": "python",
   "pygments_lexer": "ipython3",
   "version": "3.7.5"
  },
  "pycharm": {
   "stem_cell": {
    "cell_type": "raw",
    "metadata": {
     "collapsed": false
    },
    "source": []
   }
  }
 },
 "nbformat": 4,
 "nbformat_minor": 0
}
