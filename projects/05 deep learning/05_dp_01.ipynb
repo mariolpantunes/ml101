{
  "nbformat": 4,
  "nbformat_minor": 0,
  "metadata": {
    "colab": {
      "name": "transfer_learning.ipynb",
      "provenance": [],
      "collapsed_sections": [],
      "toc_visible": true,
      "machine_shape": "hm"
    },
    "kernelspec": {
      "name": "python3",
      "display_name": "Python 3"
    },
    "language_info": {
      "name": "python"
    },
    "accelerator": "GPU"
  },
  "cells": [
    {
      "cell_type": "markdown",
      "metadata": {
        "id": "AgOTj8txrmyD"
      },
      "source": [
        "## Imports and loading data"
      ]
    },
    {
      "cell_type": "code",
      "metadata": {
        "id": "rEnLgPR7Ixv5"
      },
      "source": [
        "import tensorflow as tf\n",
        "import numpy as np"
      ],
      "execution_count": 2,
      "outputs": []
    },
    {
      "cell_type": "code",
      "metadata": {
        "id": "7r_zZ888I20J"
      },
      "source": [
        "import tensorflow_datasets as tfds\n",
        "from tensorflow.keras.utils import to_categorical\n",
        "\n",
        "(train_ds, train_labels), (test_ds, test_labels) = tfds.load(\n",
        "    \"tf_flowers\",\n",
        "    split=[\"train[:70%]\", \"train[:30%]\"],\n",
        "    batch_size=-1,\n",
        "    as_supervised=True,  # Include labels\n",
        ")"
      ],
      "execution_count": 4,
      "outputs": []
    },
    {
      "cell_type": "code",
      "metadata": {
        "colab": {
          "base_uri": "https://localhost:8080/"
        },
        "id": "AWnGmvXDdo8o",
        "outputId": "e9725831-9a01-468e-ada8-b07c2429e56f"
      },
      "source": [
        "train_ds.shape"
      ],
      "execution_count": 5,
      "outputs": [
        {
          "output_type": "execute_result",
          "data": {
            "text/plain": [
              "TensorShape([2569, 442, 1024, 3])"
            ]
          },
          "metadata": {
            "tags": []
          },
          "execution_count": 5
        }
      ]
    },
    {
      "cell_type": "markdown",
      "metadata": {
        "id": "6xuWse9TruVS"
      },
      "source": [
        "## Preprocessing data"
      ]
    },
    {
      "cell_type": "code",
      "metadata": {
        "id": "YKnX4SUvd9t9"
      },
      "source": [
        "size = (150, 150)\n",
        "\n",
        "train_ds = tf.image.resize(train_ds, (150, 150))\n",
        "test_ds = tf.image.resize(test_ds, (150, 150))\n",
        "\n",
        "train_labels = to_categorical(train_labels, num_classes=5)\n",
        "test_labels = to_categorical(test_labels, num_classes=5)"
      ],
      "execution_count": 6,
      "outputs": []
    },
    {
      "cell_type": "code",
      "metadata": {
        "colab": {
          "base_uri": "https://localhost:8080/"
        },
        "id": "AqqG-YUFeV0r",
        "outputId": "8b6829ac-8a91-410d-fc7b-1fcf158102d7"
      },
      "source": [
        "train_ds.shape"
      ],
      "execution_count": 7,
      "outputs": [
        {
          "output_type": "execute_result",
          "data": {
            "text/plain": [
              "TensorShape([2569, 150, 150, 3])"
            ]
          },
          "metadata": {
            "tags": []
          },
          "execution_count": 7
        }
      ]
    },
    {
      "cell_type": "markdown",
      "metadata": {
        "id": "yu6FRHvlrxhM"
      },
      "source": [
        "## Loading VGG16 model"
      ]
    },
    {
      "cell_type": "code",
      "metadata": {
        "id": "uF2n4UwiJvkd"
      },
      "source": [
        "from tensorflow.keras.applications.vgg16 import VGG16\n",
        "from tensorflow.keras.applications.vgg16 import preprocess_input\n",
        "\n",
        "train_ds = preprocess_input(train_ds) \n",
        "test_ds = preprocess_input(test_ds)\n",
        "\n",
        "base_model = VGG16(weights=\"imagenet\", include_top=False, input_shape=train_ds[0].shape)\n",
        "base_model.trainable = False\n"
      ],
      "execution_count": 11,
      "outputs": []
    },
    {
      "cell_type": "code",
      "metadata": {
        "colab": {
          "base_uri": "https://localhost:8080/"
        },
        "id": "B4E5eiLVfjXm",
        "outputId": "1f80ec11-f533-4eca-a26c-223659544734"
      },
      "source": [
        "base_model.summary()"
      ],
      "execution_count": 12,
      "outputs": [
        {
          "output_type": "stream",
          "text": [
            "Model: \"vgg16\"\n",
            "_________________________________________________________________\n",
            "Layer (type)                 Output Shape              Param #   \n",
            "=================================================================\n",
            "input_2 (InputLayer)         [(None, 150, 150, 3)]     0         \n",
            "_________________________________________________________________\n",
            "block1_conv1 (Conv2D)        (None, 150, 150, 64)      1792      \n",
            "_________________________________________________________________\n",
            "block1_conv2 (Conv2D)        (None, 150, 150, 64)      36928     \n",
            "_________________________________________________________________\n",
            "block1_pool (MaxPooling2D)   (None, 75, 75, 64)        0         \n",
            "_________________________________________________________________\n",
            "block2_conv1 (Conv2D)        (None, 75, 75, 128)       73856     \n",
            "_________________________________________________________________\n",
            "block2_conv2 (Conv2D)        (None, 75, 75, 128)       147584    \n",
            "_________________________________________________________________\n",
            "block2_pool (MaxPooling2D)   (None, 37, 37, 128)       0         \n",
            "_________________________________________________________________\n",
            "block3_conv1 (Conv2D)        (None, 37, 37, 256)       295168    \n",
            "_________________________________________________________________\n",
            "block3_conv2 (Conv2D)        (None, 37, 37, 256)       590080    \n",
            "_________________________________________________________________\n",
            "block3_conv3 (Conv2D)        (None, 37, 37, 256)       590080    \n",
            "_________________________________________________________________\n",
            "block3_pool (MaxPooling2D)   (None, 18, 18, 256)       0         \n",
            "_________________________________________________________________\n",
            "block4_conv1 (Conv2D)        (None, 18, 18, 512)       1180160   \n",
            "_________________________________________________________________\n",
            "block4_conv2 (Conv2D)        (None, 18, 18, 512)       2359808   \n",
            "_________________________________________________________________\n",
            "block4_conv3 (Conv2D)        (None, 18, 18, 512)       2359808   \n",
            "_________________________________________________________________\n",
            "block4_pool (MaxPooling2D)   (None, 9, 9, 512)         0         \n",
            "_________________________________________________________________\n",
            "block5_conv1 (Conv2D)        (None, 9, 9, 512)         2359808   \n",
            "_________________________________________________________________\n",
            "block5_conv2 (Conv2D)        (None, 9, 9, 512)         2359808   \n",
            "_________________________________________________________________\n",
            "block5_conv3 (Conv2D)        (None, 9, 9, 512)         2359808   \n",
            "_________________________________________________________________\n",
            "block5_pool (MaxPooling2D)   (None, 4, 4, 512)         0         \n",
            "=================================================================\n",
            "Total params: 14,714,688\n",
            "Trainable params: 0\n",
            "Non-trainable params: 14,714,688\n",
            "_________________________________________________________________\n"
          ],
          "name": "stdout"
        }
      ]
    },
    {
      "cell_type": "markdown",
      "metadata": {
        "id": "k9vNgk67sUqK"
      },
      "source": [
        "## Adding Layers"
      ]
    },
    {
      "cell_type": "code",
      "metadata": {
        "id": "sinRGfJGTseu"
      },
      "source": [
        "from tensorflow.keras import layers, models\n",
        "\n",
        "\n",
        "flatten_layer = layers.Flatten()\n",
        "dense_layer_1 = layers.Dense(50, activation='relu')\n",
        "dense_layer_2 = layers.Dense(20, activation='relu')\n",
        "prediction_layer = layers.Dense(5, activation='softmax')\n",
        "\n",
        "\n",
        "\n",
        "model = models.Sequential([\n",
        "    base_model,\n",
        "    flatten_layer,\n",
        "    dense_layer_1,\n",
        "    dense_layer_2,\n",
        "    prediction_layer\n",
        "])\n"
      ],
      "execution_count": 9,
      "outputs": []
    },
    {
      "cell_type": "code",
      "metadata": {
        "colab": {
          "base_uri": "https://localhost:8080/"
        },
        "id": "geu0lCr2ULTi",
        "outputId": "9d81e0ca-4421-424d-9087-899635618886"
      },
      "source": [
        "model.summary()"
      ],
      "execution_count": 10,
      "outputs": [
        {
          "output_type": "stream",
          "text": [
            "Model: \"sequential\"\n",
            "_________________________________________________________________\n",
            "Layer (type)                 Output Shape              Param #   \n",
            "=================================================================\n",
            "vgg16 (Functional)           (None, 4, 4, 512)         14714688  \n",
            "_________________________________________________________________\n",
            "flatten (Flatten)            (None, 8192)              0         \n",
            "_________________________________________________________________\n",
            "dense (Dense)                (None, 50)                409650    \n",
            "_________________________________________________________________\n",
            "dense_1 (Dense)              (None, 20)                1020      \n",
            "_________________________________________________________________\n",
            "dense_2 (Dense)              (None, 5)                 105       \n",
            "=================================================================\n",
            "Total params: 15,125,463\n",
            "Trainable params: 410,775\n",
            "Non-trainable params: 14,714,688\n",
            "_________________________________________________________________\n"
          ],
          "name": "stdout"
        }
      ]
    },
    {
      "cell_type": "markdown",
      "metadata": {
        "id": "Um5OizbxsXf0"
      },
      "source": [
        "## Training model"
      ]
    },
    {
      "cell_type": "code",
      "metadata": {
        "colab": {
          "base_uri": "https://localhost:8080/"
        },
        "id": "zi3E1oEyand0",
        "outputId": "74ed18fc-4736-4381-e00d-1cc2608eefaf"
      },
      "source": [
        "from tensorflow.keras.callbacks import EarlyStopping\n",
        "\n",
        "model.compile(\n",
        "    optimizer='adam',\n",
        "    loss='categorical_crossentropy',\n",
        "    metrics=['accuracy'],\n",
        ")\n",
        "\n",
        "\n",
        "es = EarlyStopping(monitor='val_accuracy', mode='max', patience=5,  restore_best_weights=True)\n",
        "\n",
        "model.fit(train_ds, train_labels, epochs=50, validation_split=0.2, batch_size=32, callbacks=[es])"
      ],
      "execution_count": 12,
      "outputs": [
        {
          "output_type": "stream",
          "text": [
            "Epoch 1/50\n",
            "65/65 [==============================] - 6s 44ms/step - loss: 1.6855 - accuracy: 0.3810 - val_loss: 1.2690 - val_accuracy: 0.4572\n",
            "Epoch 2/50\n",
            "65/65 [==============================] - 2s 30ms/step - loss: 1.0561 - accuracy: 0.5742 - val_loss: 1.1122 - val_accuracy: 0.5409\n",
            "Epoch 3/50\n",
            "65/65 [==============================] - 2s 30ms/step - loss: 0.7746 - accuracy: 0.7100 - val_loss: 1.0297 - val_accuracy: 0.6187\n",
            "Epoch 4/50\n",
            "65/65 [==============================] - 2s 30ms/step - loss: 0.5840 - accuracy: 0.7956 - val_loss: 1.0904 - val_accuracy: 0.6537\n",
            "Epoch 5/50\n",
            "65/65 [==============================] - 2s 30ms/step - loss: 0.4690 - accuracy: 0.8316 - val_loss: 1.1269 - val_accuracy: 0.6615\n",
            "Epoch 6/50\n",
            "65/65 [==============================] - 2s 30ms/step - loss: 0.3728 - accuracy: 0.8745 - val_loss: 1.1244 - val_accuracy: 0.6712\n",
            "Epoch 7/50\n",
            "65/65 [==============================] - 2s 30ms/step - loss: 0.2928 - accuracy: 0.8925 - val_loss: 1.1643 - val_accuracy: 0.6712\n",
            "Epoch 8/50\n",
            "65/65 [==============================] - 2s 30ms/step - loss: 0.2355 - accuracy: 0.9217 - val_loss: 1.1732 - val_accuracy: 0.6946\n",
            "Epoch 9/50\n",
            "65/65 [==============================] - 2s 30ms/step - loss: 0.1775 - accuracy: 0.9460 - val_loss: 1.2335 - val_accuracy: 0.6868\n",
            "Epoch 10/50\n",
            "65/65 [==============================] - 2s 30ms/step - loss: 0.1493 - accuracy: 0.9523 - val_loss: 1.3344 - val_accuracy: 0.7023\n",
            "Epoch 11/50\n",
            "65/65 [==============================] - 2s 30ms/step - loss: 0.1194 - accuracy: 0.9659 - val_loss: 1.4902 - val_accuracy: 0.6751\n",
            "Epoch 12/50\n",
            "65/65 [==============================] - 2s 30ms/step - loss: 0.1020 - accuracy: 0.9708 - val_loss: 1.3655 - val_accuracy: 0.7004\n",
            "Epoch 13/50\n",
            "65/65 [==============================] - 2s 30ms/step - loss: 0.0937 - accuracy: 0.9723 - val_loss: 1.5541 - val_accuracy: 0.6946\n",
            "Epoch 14/50\n",
            "65/65 [==============================] - 2s 30ms/step - loss: 0.0780 - accuracy: 0.9762 - val_loss: 1.4536 - val_accuracy: 0.7023\n",
            "Epoch 15/50\n",
            "65/65 [==============================] - 2s 30ms/step - loss: 0.0709 - accuracy: 0.9796 - val_loss: 1.6000 - val_accuracy: 0.6965\n",
            "Restoring model weights from the end of the best epoch.\n",
            "Epoch 00015: early stopping\n"
          ],
          "name": "stdout"
        },
        {
          "output_type": "execute_result",
          "data": {
            "text/plain": [
              "<tensorflow.python.keras.callbacks.History at 0x7f2bf0595c10>"
            ]
          },
          "metadata": {
            "tags": []
          },
          "execution_count": 12
        }
      ]
    },
    {
      "cell_type": "code",
      "metadata": {
        "colab": {
          "base_uri": "https://localhost:8080/"
        },
        "id": "sI3fy0o4gjj1",
        "outputId": "fa2cb434-263c-40e9-98c2-fe08e90bbcfe"
      },
      "source": [
        "model.evaluate(test_ds, test_labels)"
      ],
      "execution_count": 13,
      "outputs": [
        {
          "output_type": "stream",
          "text": [
            "35/35 [==============================] - 1s 40ms/step - loss: 0.1252 - accuracy: 0.9619\n"
          ],
          "name": "stdout"
        },
        {
          "output_type": "execute_result",
          "data": {
            "text/plain": [
              "[0.1252465844154358, 0.9618528485298157]"
            ]
          },
          "metadata": {
            "tags": []
          },
          "execution_count": 13
        }
      ]
    },
    {
      "cell_type": "markdown",
      "metadata": {
        "id": "xxO0cv7-reML"
      },
      "source": [
        "## Hand Made Model"
      ]
    },
    {
      "cell_type": "code",
      "metadata": {
        "colab": {
          "base_uri": "https://localhost:8080/"
        },
        "id": "DT4JDx3rrf7h",
        "outputId": "c13d9499-4af4-48f6-d15a-3531727ba856"
      },
      "source": [
        "from tensorflow.keras import Sequential, layers\n",
        "from tensorflow.keras.callbacks import EarlyStopping\n",
        "from tensorflow.keras.layers.experimental.preprocessing import Rescaling\n",
        "\n",
        "\n",
        "hand_made_model = Sequential()\n",
        "hand_made_model.add(Rescaling(1./255, input_shape=(150,150,3)))\n",
        "\n",
        "hand_made_model.add(layers.Conv2D(16, kernel_size=10, activation='relu'))\n",
        "hand_made_model.add(layers.MaxPooling2D(3))\n",
        "\n",
        "hand_made_model.add(layers.Conv2D(32, kernel_size=8, activation=\"relu\"))\n",
        "hand_made_model.add(layers.MaxPooling2D(2))\n",
        "\n",
        "hand_made_model.add(layers.Conv2D(32, kernel_size=6, activation=\"relu\"))\n",
        "hand_made_model.add(layers.MaxPooling2D(2))\n",
        "\n",
        "hand_made_model.add(layers.Flatten())\n",
        "hand_made_model.add(layers.Dense(50, activation='relu'))\n",
        "hand_made_model.add(layers.Dense(20, activation='relu'))\n",
        "hand_made_model.add(layers.Dense(5, activation='softmax'))\n",
        "\n",
        "\n",
        "hand_made_model.compile(\n",
        "    optimizer='adam',\n",
        "    loss='categorical_crossentropy',\n",
        "    metrics=['accuracy'],\n",
        ")\n",
        "\n",
        "\n",
        "es = EarlyStopping(monitor='val_accuracy', mode='max', patience=5,  restore_best_weights=True)\n",
        "\n",
        "hand_made_model.fit(train_ds, train_labels, epochs=50, validation_split=0.2, batch_size=32, callbacks=[es])"
      ],
      "execution_count": 14,
      "outputs": [
        {
          "output_type": "stream",
          "text": [
            "Epoch 1/50\n",
            "65/65 [==============================] - 4s 18ms/step - loss: 1.5190 - accuracy: 0.2895 - val_loss: 1.4304 - val_accuracy: 0.3152\n",
            "Epoch 2/50\n",
            "65/65 [==============================] - 1s 12ms/step - loss: 1.3129 - accuracy: 0.4180 - val_loss: 1.2735 - val_accuracy: 0.4825\n",
            "Epoch 3/50\n",
            "65/65 [==============================] - 1s 13ms/step - loss: 1.2217 - accuracy: 0.4706 - val_loss: 1.2042 - val_accuracy: 0.4844\n",
            "Epoch 4/50\n",
            "65/65 [==============================] - 1s 13ms/step - loss: 1.1505 - accuracy: 0.5187 - val_loss: 1.1823 - val_accuracy: 0.5058\n",
            "Epoch 5/50\n",
            "65/65 [==============================] - 1s 13ms/step - loss: 1.0741 - accuracy: 0.5489 - val_loss: 1.1598 - val_accuracy: 0.5117\n",
            "Epoch 6/50\n",
            "65/65 [==============================] - 1s 13ms/step - loss: 1.0077 - accuracy: 0.5961 - val_loss: 1.3546 - val_accuracy: 0.5117\n",
            "Epoch 7/50\n",
            "65/65 [==============================] - 1s 12ms/step - loss: 0.9820 - accuracy: 0.6083 - val_loss: 1.1733 - val_accuracy: 0.5292\n",
            "Epoch 8/50\n",
            "65/65 [==============================] - 1s 13ms/step - loss: 0.8730 - accuracy: 0.6453 - val_loss: 1.1720 - val_accuracy: 0.5156\n",
            "Epoch 9/50\n",
            "65/65 [==============================] - 1s 13ms/step - loss: 0.8636 - accuracy: 0.6443 - val_loss: 1.1460 - val_accuracy: 0.5467\n",
            "Epoch 10/50\n",
            "65/65 [==============================] - 1s 13ms/step - loss: 0.7131 - accuracy: 0.7202 - val_loss: 1.2200 - val_accuracy: 0.5564\n",
            "Epoch 11/50\n",
            "65/65 [==============================] - 1s 12ms/step - loss: 0.6447 - accuracy: 0.7504 - val_loss: 1.3769 - val_accuracy: 0.5214\n",
            "Epoch 12/50\n",
            "65/65 [==============================] - 1s 13ms/step - loss: 0.5955 - accuracy: 0.7718 - val_loss: 1.2755 - val_accuracy: 0.5603\n",
            "Epoch 13/50\n",
            "65/65 [==============================] - 1s 13ms/step - loss: 0.5384 - accuracy: 0.7839 - val_loss: 1.3069 - val_accuracy: 0.5895\n",
            "Epoch 14/50\n",
            "65/65 [==============================] - 1s 13ms/step - loss: 0.4630 - accuracy: 0.8224 - val_loss: 1.5293 - val_accuracy: 0.5700\n",
            "Epoch 15/50\n",
            "65/65 [==============================] - 1s 13ms/step - loss: 0.3944 - accuracy: 0.8594 - val_loss: 1.7366 - val_accuracy: 0.5467\n",
            "Epoch 16/50\n",
            "65/65 [==============================] - 1s 13ms/step - loss: 0.3850 - accuracy: 0.8613 - val_loss: 1.7961 - val_accuracy: 0.5661\n",
            "Epoch 17/50\n",
            "65/65 [==============================] - 1s 13ms/step - loss: 0.2780 - accuracy: 0.9002 - val_loss: 1.9203 - val_accuracy: 0.5584\n",
            "Epoch 18/50\n",
            "65/65 [==============================] - 1s 12ms/step - loss: 0.2632 - accuracy: 0.9095 - val_loss: 1.8888 - val_accuracy: 0.5545\n"
          ],
          "name": "stdout"
        },
        {
          "output_type": "execute_result",
          "data": {
            "text/plain": [
              "<tensorflow.python.keras.callbacks.History at 0x7f6260433810>"
            ]
          },
          "metadata": {
            "tags": []
          },
          "execution_count": 14
        }
      ]
    },
    {
      "cell_type": "code",
      "metadata": {
        "colab": {
          "base_uri": "https://localhost:8080/"
        },
        "id": "ywinEcYktcXq",
        "outputId": "31163265-e070-44bd-8d03-52ea4053d2c9"
      },
      "source": [
        "hand_made_model.evaluate(test_ds, test_labels)"
      ],
      "execution_count": 15,
      "outputs": [
        {
          "output_type": "stream",
          "text": [
            "35/35 [==============================] - 0s 9ms/step - loss: 0.4268 - accuracy: 0.8320\n"
          ],
          "name": "stdout"
        },
        {
          "output_type": "execute_result",
          "data": {
            "text/plain": [
              "[0.42677685618400574, 0.8319709300994873]"
            ]
          },
          "metadata": {
            "tags": []
          },
          "execution_count": 15
        }
      ]
    },
    {
      "cell_type": "code",
      "metadata": {
        "id": "acMi3i-ntm_w"
      },
      "source": [
        ""
      ],
      "execution_count": null,
      "outputs": []
    }
  ]
}