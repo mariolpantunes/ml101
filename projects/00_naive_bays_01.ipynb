{
 "cells": [
  {
   "cell_type": "markdown",
   "metadata": {},
   "source": [
    "# Naive Bayes (Continous)\n",
    "\n",
    "The idea of this project is to write a simple Naive Bayes model to predict Iris Species.\n",
    "Contrary to the previous project, each feature is continous instead of discrete.\n",
    "\n",
    "The derivation relies on the Gaussian Naive Bayes.\n",
    "When working with continuous data, an assumption often taken is that the continuous values associated with each class are distributed according to a normal (or Gaussian) distribution.\n",
    "\n",
    "$$\n",
    "P(x|y) = \\frac{1}{\\sqrt{2\\pi \\sigma_{y}^{2}}}e^{-\\frac{(x-\\mu)^2}{2\\sigma_{y}^{2}}}\n",
    "$$\n"
   ]
  },
  {
   "cell_type": "code",
   "execution_count": null,
   "metadata": {},
   "outputs": [],
   "source": [
    "%matplotlib inline\n",
    "import matplotlib.pyplot as plt\n",
    "import seaborn as sn\n",
    "import pandas as pd\n",
    "import numpy as np\n",
    "from sklearn.model_selection import train_test_split"
   ]
  },
  {
   "cell_type": "markdown",
   "metadata": {},
   "source": [
    "## Load the dataset"
   ]
  },
  {
   "cell_type": "code",
   "execution_count": null,
   "metadata": {
    "scrolled": true
   },
   "outputs": [],
   "source": [
    "data = pd.read_csv('../datasets/iris.csv')\n",
    "data.head()"
   ]
  },
  {
   "cell_type": "code",
   "execution_count": null,
   "metadata": {},
   "outputs": [],
   "source": [
    "data['variety'].value_counts().plot(kind='bar')"
   ]
  },
  {
   "cell_type": "markdown",
   "metadata": {},
   "source": [
    "## Preprocessing the dataset"
   ]
  },
  {
   "cell_type": "code",
   "execution_count": null,
   "metadata": {},
   "outputs": [],
   "source": [
    "# replace class names with integer\n",
    "variety={'Setosa':0, 'Versicolor':1, 'Virginica':2}\n",
    "data.variety = [variety[item] for item in data.variety]"
   ]
  },
  {
   "cell_type": "code",
   "execution_count": null,
   "metadata": {},
   "outputs": [],
   "source": [
    "# divide the dataset\n",
    "X = data[['sepal.length','sepal.width','petal.length','petal.width']]\n",
    "y = data[['variety']]\n",
    "\n",
    "# convert to numpy arrays\n",
    "X = X.to_numpy()\n",
    "y = y.to_numpy()[:,0]\n",
    "\n",
    "X_train, X_test, y_train, y_test = train_test_split(X, y, test_size=0.3, stratify=y, random_state=1)"
   ]
  },
  {
   "cell_type": "code",
   "execution_count": null,
   "metadata": {},
   "outputs": [],
   "source": [
    "class NB:\n",
    "    def fit(self, X, y):\n",
    "        self.n_samples, self.n_features = X.shape\n",
    "        self.n_classes = len(np.unique(y))\n",
    "\n",
    "        self.mean = np.zeros((self.n_classes, self.n_features))\n",
    "        self.variance = np.zeros((self.n_classes, self.n_features))\n",
    "        self.priors = np.zeros(self.n_classes)\n",
    "\n",
    "        for c in range(self.n_classes):\n",
    "            X_c = X[y == c]\n",
    "\n",
    "            self.mean[c, :] = np.mean(X_c, axis=0)\n",
    "            self.variance[c, :] = np.var(X_c, axis=0)\n",
    "            self.priors[c] = X_c.shape[0] / self.n_samples\n",
    "\n",
    "    def predict(self, X):\n",
    "        y_hat = [self.get_class_probability(x) for x in X]\n",
    "        return np.array(y_hat)\n",
    "\n",
    "    def get_class_probability(self, x):\n",
    "        posteriors = []\n",
    "\n",
    "        for c in range(self.n_classes):\n",
    "            mean = self.mean[c]\n",
    "            variance = self.variance[c]\n",
    "            prior = np.log(self.priors[c])\n",
    "\n",
    "            posterior = np.sum(np.log(self.gaussian_density(x, mean, variance)))\n",
    "            posterior = prior + posterior\n",
    "            posteriors.append(posterior)\n",
    "\n",
    "        return np.argmax(posteriors)\n",
    "\n",
    "    def gaussian_density(self, x, mean, var):\n",
    "        const = 1 / np.sqrt(var * 2 * np.pi)\n",
    "        k = ((x - mean) ** 2 / var)\n",
    "        proba = np.exp(-0.5 * k)\n",
    "\n",
    "        return const * proba"
   ]
  },
  {
   "cell_type": "code",
   "execution_count": null,
   "metadata": {},
   "outputs": [],
   "source": [
    "nb = NB()\n",
    "nb.fit(X_train, y_train)\n",
    "predictions = nb.predict(X_test)\n",
    "\n",
    "# helper function to calculate accuracy\n",
    "def get_accuracy(y_true, y_hat):\n",
    "    return np.sum(y_true == y_hat) / len(y_true)\n",
    "  \n",
    "# print results\n",
    "print('Naive Bayes Accuracy: ', get_accuracy(y_test, predictions))"
   ]
  },
  {
   "cell_type": "code",
   "execution_count": null,
   "metadata": {},
   "outputs": [],
   "source": [
    "data_predictions = {'y_Actual':y_test,'y_Predicted': predictions}\n",
    "df = pd.DataFrame(data_predictions, columns=['y_Actual','y_Predicted'])\n",
    "confusion_matrix = pd.crosstab(df['y_Actual'], df['y_Predicted'], rownames=['Actual'], colnames=['Predicted'])\n",
    "\n",
    "sn.heatmap(confusion_matrix, annot=True)\n",
    "plt.show()"
   ]
  },
  {
   "cell_type": "code",
   "execution_count": null,
   "metadata": {},
   "outputs": [],
   "source": [
    "from sklearn.naive_bayes import GaussianNB\n",
    "clf = GaussianNB()\n",
    "clf.fit(X_train, y_train)\n",
    "predictions = clf.predict(X_test)\n",
    "print('Naive Bayes Accuracy: ', get_accuracy(y_test, predictions))"
   ]
  },
  {
   "cell_type": "code",
   "execution_count": null,
   "metadata": {},
   "outputs": [],
   "source": [
    "data_predictions = {'y_Actual':y_test,'y_Predicted': predictions}\n",
    "df = pd.DataFrame(data_predictions, columns=['y_Actual','y_Predicted'])\n",
    "confusion_matrix = pd.crosstab(df['y_Actual'], df['y_Predicted'], rownames=['Actual'], colnames=['Predicted'])\n",
    "\n",
    "sn.heatmap(confusion_matrix, annot=True)\n",
    "plt.show()"
   ]
  }
 ],
 "metadata": {
  "interpreter": {
   "hash": "767d51c1340bd893661ea55ea3124f6de3c7a262a8b4abca0554b478b1e2ff90"
  },
  "kernelspec": {
   "display_name": "Python 3 (ipykernel)",
   "language": "python",
   "name": "python3"
  },
  "language_info": {
   "codemirror_mode": {
    "name": "ipython",
    "version": 3
   },
   "file_extension": ".py",
   "mimetype": "text/x-python",
   "name": "python",
   "nbconvert_exporter": "python",
   "pygments_lexer": "ipython3",
   "version": "3.8.10"
  }
 },
 "nbformat": 4,
 "nbformat_minor": 2
}
