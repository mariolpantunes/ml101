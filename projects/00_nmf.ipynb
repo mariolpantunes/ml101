{
 "cells": [
  {
   "cell_type": "markdown",
   "metadata": {},
   "source": [
    "# NMF and SVD\n",
    "\n",
    "The idea of this project is to build a simple movie recomendation system based on the NMF and SVD factorization method.\n",
    "\n",
    "Let us consider a rather small dataset of movies ratings (only 5 users and 5 movies).\n",
    "At some point in time the rankings look like this."
   ]
  },
  {
   "cell_type": "code",
   "execution_count": 29,
   "metadata": {},
   "outputs": [
    {
     "data": {
      "image/png": "[encoded data removed]",
      "text/plain": [
       "<Figure size 432x288 with 2 Axes>"
      ]
     },
     "metadata": {
      "needs_background": "light"
     },
     "output_type": "display_data"
    }
   ],
   "source": [
    "%matplotlib inline\n",
    "import matplotlib.pyplot as plt\n",
    "import seaborn as sn\n",
    "import numpy as np\n",
    "import tqdm\n",
    "\n",
    "from scipy.linalg import sqrtm\n",
    "\n",
    "M = np.array([[5,4,0,2,1], [0,2,3,4,5], [4,5,0,0,3],[2,5,0,0,0], [3,0,0,0,5]])\n",
    "ax = sn.heatmap(M, cmap=\"YlGnBu\")"
   ]
  },
  {
   "cell_type": "code",
   "execution_count": 34,
   "metadata": {},
   "outputs": [],
   "source": [
    "def rmse(A,B):\n",
    "    mask = A!=0.0\n",
    "    return np.sqrt((np.power(B - A, 2)).mean())"
   ]
  },
  {
   "cell_type": "code",
   "execution_count": 3,
   "metadata": {},
   "outputs": [],
   "source": [
    "\n",
    "def nmf_mu(X, k, n=1000, l=1E-3, seed=None):\n",
    "    if isinstance(seed,int):\n",
    "        np.random.seed(seed)\n",
    "    \n",
    "    rows, columns = X.shape\n",
    "    eps = np.finfo(float).eps\n",
    "\n",
    "    # Create W and H\n",
    "    #avg = np.sqrt(X.mean() / k)\n",
    "    \n",
    "    W = np.abs(np.random.uniform(size=(rows, k)))\n",
    "    #W = avg * np.maximum(W, eps)\n",
    "    W = np.maximum(W, eps)\n",
    "    W = np.divide(W, k*W.max())\n",
    "\n",
    "    H = np.abs(np.random.uniform(size=(k, columns)))\n",
    "    #H = avg * np.maximum(H, eps)\n",
    "    H = np.maximum(H, eps)\n",
    "    H = np.divide(H, k*H.max())\n",
    "\n",
    "    # Create a Mask\n",
    "    M = X > 0.0\n",
    "\n",
    "    for _ in tqdm.tqdm(range(n)):\n",
    "        W = np.multiply(W, np.divide((M*X)@H.T-l*np.linalg.norm(W, 'fro'), (M*(W@H))@H.T))\n",
    "        W = np.maximum(W, eps)\n",
    "        H = np.multiply(H, np.divide(W.T@(M*X)-l*np.linalg.norm(H, 'fro'), W.T@(M*(W@H))))\n",
    "        H = np.maximum(H, eps)\n",
    "\n",
    "        Xr = W @ H\n",
    "        cost = np.linalg.norm((M*X) - (M*Xr), 'fro')\n",
    "        if cost <= l:\n",
    "            break\n",
    "    \n",
    "    return Xr, W, H, cost"
   ]
  },
  {
   "cell_type": "markdown",
   "metadata": {},
   "source": [
    "### 1. Compute the recommendations using NMF"
   ]
  },
  {
   "cell_type": "code",
   "execution_count": 38,
   "metadata": {},
   "outputs": [
    {
     "name": "stderr",
     "output_type": "stream",
     "text": [
      "100%|██████████| 1000/1000 [00:00<00:00, 14023.74it/s]\n"
     ]
    },
    {
     "name": "stdout",
     "output_type": "stream",
     "text": [
      "RMSE = 1.347467706774432\n"
     ]
    },
    {
     "data": {
      "image/png": "[encoded data removed]",
      "text/plain": [
       "<Figure size 432x288 with 2 Axes>"
      ]
     },
     "metadata": {
      "needs_background": "light"
     },
     "output_type": "display_data"
    }
   ],
   "source": [
    "Xr, W, H, cost = nmf_mu(M, 5)\n",
    "ax = sn.heatmap(Xr, cmap=\"YlGnBu\")\n",
    "error = rmse(M, Xr)\n",
    "print(f'RMSE = {error}')"
   ]
  },
  {
   "cell_type": "markdown",
   "metadata": {},
   "source": [
    "### 2. Compute the recommendations using SVD"
   ]
  },
  {
   "cell_type": "code",
   "execution_count": 30,
   "metadata": {},
   "outputs": [],
   "source": [
    "def svd(X, k):\n",
    "    \n",
    "    mask = X == 0.0\n",
    "    masked_arr = np.ma.masked_array(X, mask)\n",
    "    item_means = np.mean(masked_arr, axis=0)\n",
    "    # nan entries will replaced by the average rating for each item\n",
    "    utilMat = masked_arr.filled(item_means)\n",
    "    \n",
    "    x = np.tile(item_means, (X.shape[0],1))    \n",
    "    # we remove the per item average from all entries.\n",
    "    # the above mentioned nan entries will be essentially zero now\n",
    "    utilMat = utilMat - x\n",
    "    # The magic happens here. U and V are user and item features\n",
    "    U, s, V=np.linalg.svd(utilMat, full_matrices=False)\n",
    "    s=np.diag(s)\n",
    "    # we take only the k most significant features\n",
    "    s=s[0:k,0:k]\n",
    "    U=U[:,0:k]\n",
    "    V=V[0:k,:]\n",
    "    s_root=sqrtm(s)\n",
    "    Usk=np.dot(U,s_root)\n",
    "    skV=np.dot(s_root,V)\n",
    "    UsV = np.dot(Usk, skV)\n",
    "    UsV = UsV + x \n",
    "    return UsV"
   ]
  },
  {
   "cell_type": "code",
   "execution_count": 37,
   "metadata": {},
   "outputs": [
    {
     "name": "stdout",
     "output_type": "stream",
     "text": [
      "RMSE = 1.969771560359221\n"
     ]
    },
    {
     "data": {
      "image/png": "[encoded data removed]",
      "text/plain": [
       "<Figure size 432x288 with 2 Axes>"
      ]
     },
     "metadata": {
      "needs_background": "light"
     },
     "output_type": "display_data"
    }
   ],
   "source": [
    "Xr = svd(M, 5)\n",
    "ax = sn.heatmap(Xr, cmap=\"YlGnBu\")\n",
    "error = rmse(M, Xr)\n",
    "print(f'RMSE = {error}')"
   ]
  }
 ],
 "metadata": {
  "interpreter": {
   "hash": "222e38f7491daf337e0b1a0987736295e98828f490fd2b030e2ac9b1987b4fa0"
  },
  "kernelspec": {
   "display_name": "Python 3.8.10 64-bit ('venv': venv)",
   "language": "python",
   "name": "python3"
  },
  "language_info": {
   "codemirror_mode": {
    "name": "ipython",
    "version": 3
   },
   "file_extension": ".py",
   "mimetype": "text/x-python",
   "name": "python",
   "nbconvert_exporter": "python",
   "pygments_lexer": "ipython3",
   "version": "3.8.10"
  },
  "orig_nbformat": 4
 },
 "nbformat": 4,
 "nbformat_minor": 2
}
