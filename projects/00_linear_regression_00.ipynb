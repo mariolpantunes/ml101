{
 "cells": [
  {
   "cell_type": "markdown",
   "metadata": {},
   "source": [
    "# Linear Regression\n",
    "\n",
    "The idea of this project is to develop 3 different versions of the Linear Regression model.\n",
    "1. Using the non-differential objective function (Differential Evolution)\n",
    "2. Using the gradient descent (manual derivation)\n",
    "3. Using the gradient descent (with autograd)"
   ]
  },
  {
   "cell_type": "code",
   "execution_count": 177,
   "metadata": {},
   "outputs": [],
   "source": [
    "%matplotlib inline\n",
    "import matplotlib.pyplot as plt\n",
    "import tqdm\n",
    "import pandas as pd\n",
    "import numpy as np\n",
    "import jax.numpy as jnp\n",
    "from jax import grad, jit\n",
    "import optimization.de as de\n",
    "plt.rcParams['figure.figsize'] = [10, 5]"
   ]
  },
  {
   "cell_type": "markdown",
   "metadata": {},
   "source": [
    "## Load the dataset"
   ]
  },
  {
   "cell_type": "code",
   "execution_count": 178,
   "metadata": {},
   "outputs": [
    {
     "data": {
      "text/html": [
       "<div>\n",
       "<style scoped>\n",
       "    .dataframe tbody tr th:only-of-type {\n",
       "        vertical-align: middle;\n",
       "    }\n",
       "\n",
       "    .dataframe tbody tr th {\n",
       "        vertical-align: top;\n",
       "    }\n",
       "\n",
       "    .dataframe thead th {\n",
       "        text-align: right;\n",
       "    }\n",
       "</style>\n",
       "<table border=\"1\" class=\"dataframe\">\n",
       "  <thead>\n",
       "    <tr style=\"text-align: right;\">\n",
       "      <th></th>\n",
       "      <th>age</th>\n",
       "      <th>bps</th>\n",
       "    </tr>\n",
       "  </thead>\n",
       "  <tbody>\n",
       "    <tr>\n",
       "      <th>0</th>\n",
       "      <td>63</td>\n",
       "      <td>145</td>\n",
       "    </tr>\n",
       "    <tr>\n",
       "      <th>1</th>\n",
       "      <td>37</td>\n",
       "      <td>130</td>\n",
       "    </tr>\n",
       "    <tr>\n",
       "      <th>2</th>\n",
       "      <td>41</td>\n",
       "      <td>130</td>\n",
       "    </tr>\n",
       "    <tr>\n",
       "      <th>3</th>\n",
       "      <td>56</td>\n",
       "      <td>120</td>\n",
       "    </tr>\n",
       "    <tr>\n",
       "      <th>4</th>\n",
       "      <td>57</td>\n",
       "      <td>120</td>\n",
       "    </tr>\n",
       "  </tbody>\n",
       "</table>\n",
       "</div>"
      ],
      "text/plain": [
       "   age  bps\n",
       "0   63  145\n",
       "1   37  130\n",
       "2   41  130\n",
       "3   56  120\n",
       "4   57  120"
      ]
     },
     "execution_count": 178,
     "metadata": {},
     "output_type": "execute_result"
    }
   ],
   "source": [
    "data = pd.read_csv('../datasets/heart.csv')\n",
    "data = data[['age', 'trestbps']]\n",
    "data = data.rename(columns={\"age\":\"age\", \"trestbps\":\"bps\"})\n",
    "data.head()"
   ]
  },
  {
   "cell_type": "code",
   "execution_count": 179,
   "metadata": {},
   "outputs": [
    {
     "data": {
      "image/png": "[encoded data removed]",
      "text/plain": [
       "<Figure size 720x360 with 1 Axes>"
      ]
     },
     "metadata": {
      "needs_background": "light"
     },
     "output_type": "display_data"
    }
   ],
   "source": [
    "# divide the dataset\n",
    "x = data[['age']]\n",
    "y = data[['bps']]\n",
    "\n",
    "# convert to numpy arrays\n",
    "x = x.to_numpy()[:,0]\n",
    "y = y.to_numpy()[:,0]\n",
    "\n",
    "# plot the data\n",
    "plt.plot(x, y, 'o')\n",
    "plt.show()"
   ]
  },
  {
   "cell_type": "code",
   "execution_count": 180,
   "metadata": {},
   "outputs": [],
   "source": [
    "def rmse(a, b):\n",
    "    return np.sqrt(np.mean(np.power(a-b,2)))"
   ]
  },
  {
   "cell_type": "markdown",
   "metadata": {},
   "source": [
    "## Differential Evolution"
   ]
  },
  {
   "cell_type": "code",
   "execution_count": 181,
   "metadata": {},
   "outputs": [],
   "source": [
    "def f(w):\n",
    "    return x*w[0]+w[1]\n",
    "\n",
    "def cost(w):\n",
    "    y_hat = f(w)\n",
    "    return np.mean(np.power((y-y_hat), 2))\n",
    "\n",
    "class LRDE:\n",
    "    def fit(self, x, y):\n",
    "        bounds = np.asarray([(-5.0, 5.0), (-5.0, 5.0)])\n",
    "        solution = de.differential_evolution(cost, bounds, n_iter=300, debug=True)\n",
    "        print(f'{solution[0]} ({solution[1]})')\n",
    "        self.w = solution[0]\n",
    "    \n",
    "    def predict(self, x):\n",
    "        return x*self.w[0]+self.w[1]\n",
    "    \n",
    "    def params(self):\n",
    "        return self.w"
   ]
  },
  {
   "cell_type": "code",
   "execution_count": 182,
   "metadata": {},
   "outputs": [
    {
     "name": "stderr",
     "output_type": "stream",
     "text": [
      "100%|██████████| 300/300 [00:16<00:00, 18.21it/s]"
     ]
    },
    {
     "name": "stdout",
     "output_type": "stream",
     "text": [
      "[ 2.46916764 -5.        ] (594.4762977114497)\n"
     ]
    },
    {
     "name": "stderr",
     "output_type": "stream",
     "text": [
      "\n"
     ]
    }
   ],
   "source": [
    "lr = LRDE()\n",
    "lr.fit(x,y)"
   ]
  },
  {
   "cell_type": "code",
   "execution_count": 183,
   "metadata": {},
   "outputs": [
    {
     "data": {
      "image/png": "[encoded data removed]",
      "text/plain": [
       "<Figure size 720x360 with 1 Axes>"
      ]
     },
     "metadata": {
      "needs_background": "light"
     },
     "output_type": "display_data"
    }
   ],
   "source": [
    "y_hat = f(lr.params())\n",
    "# plot the data\n",
    "plt.plot(x, y, 'o')\n",
    "plt.plot(x, y_hat, 'ro')\n",
    "plt.show()\n"
   ]
  },
  {
   "cell_type": "code",
   "execution_count": 184,
   "metadata": {},
   "outputs": [
    {
     "name": "stdout",
     "output_type": "stream",
     "text": [
      "RMSE = 24.38188462181399\n"
     ]
    }
   ],
   "source": [
    "cost = rmse(y,y_hat)\n",
    "print(f'RMSE = {cost}')"
   ]
  },
  {
   "cell_type": "markdown",
   "metadata": {},
   "source": [
    "## Gradient Descent (Manual)"
   ]
  },
  {
   "cell_type": "code",
   "execution_count": 185,
   "metadata": {},
   "outputs": [],
   "source": [
    "class LR:\n",
    "    def fit(self, X, Y, L=0.0001):\n",
    "        self.m = 0.0\n",
    "        self.c = 0.0\n",
    "        for _ in tqdm.tqdm(range(1000)):\n",
    "            Y_pred = self.m*X + self.c  # The current predicted value of Y\n",
    "            D_m = np.average(-X * (Y - Y_pred))  # Derivative wrt m\n",
    "            D_c = - np.average(Y - Y_pred)  # Derivative wrt c\n",
    "            self.m = self.m - L * D_m  # Update m\n",
    "            self.c = self.c - L * D_c  # Update c\n",
    "\n",
    "    def predict(self, x):\n",
    "        return x*self.m+self.c\n",
    "    \n",
    "    def params(self):\n",
    "        return (self.m, self.c)"
   ]
  },
  {
   "cell_type": "code",
   "execution_count": 186,
   "metadata": {},
   "outputs": [
    {
     "name": "stderr",
     "output_type": "stream",
     "text": [
      "100%|██████████| 1000/1000 [00:00<00:00, 20930.29it/s]"
     ]
    },
    {
     "name": "stdout",
     "output_type": "stream",
     "text": [
      "LR (2.364445837987069, 0.31866107099921415)\n"
     ]
    },
    {
     "name": "stderr",
     "output_type": "stream",
     "text": [
      "\n"
     ]
    }
   ],
   "source": [
    "lr = LR()\n",
    "lr.fit(x,y)\n",
    "print(f'LR {lr.params()}')"
   ]
  },
  {
   "cell_type": "code",
   "execution_count": 187,
   "metadata": {},
   "outputs": [
    {
     "data": {
      "image/png": "[encoded data removed]",
      "text/plain": [
       "<Figure size 720x360 with 1 Axes>"
      ]
     },
     "metadata": {
      "needs_background": "light"
     },
     "output_type": "display_data"
    }
   ],
   "source": [
    "y_hat = f(lr.params())\n",
    "# plot the data\n",
    "plt.plot(x, y, 'o')\n",
    "plt.plot(x, y_hat, 'ro')\n",
    "plt.show()"
   ]
  },
  {
   "cell_type": "code",
   "execution_count": 188,
   "metadata": {},
   "outputs": [
    {
     "name": "stdout",
     "output_type": "stream",
     "text": [
      "RMSE = 23.750311085598696\n"
     ]
    }
   ],
   "source": [
    "cost = rmse(y,y_hat)\n",
    "print(f'RMSE = {cost}')"
   ]
  },
  {
   "cell_type": "markdown",
   "metadata": {},
   "source": [
    "### Gradient Descent (Autograd)"
   ]
  },
  {
   "cell_type": "code",
   "execution_count": 196,
   "metadata": {},
   "outputs": [],
   "source": [
    "def J(X, m, b, y):\n",
    "    y_hat = x * m + b\n",
    "    return jnp.mean((y_hat-y)**2.0)\n",
    "\n",
    "grad_X = jit(grad(J, argnums=1))\n",
    "grad_b = jit(grad(J, argnums=2))\n",
    "\n",
    "class LRAG:\n",
    "    def fit(self, X, Y, L=0.0001):\n",
    "        self.m = 0.0\n",
    "        self.b = 0.0\n",
    "        for _ in tqdm.tqdm(range(1000)):\n",
    "            self.m = self.m - L * grad_X(X, self.m, self.b, Y)\n",
    "            self.b = self.b - L * grad_b(X, self.m, self.b, Y)\n",
    "\n",
    "    def predict(self, x):\n",
    "        return x*self.m+self.b\n",
    "    \n",
    "    def params(self):\n",
    "        return (self.m, self.b)"
   ]
  },
  {
   "cell_type": "code",
   "execution_count": 197,
   "metadata": {},
   "outputs": [
    {
     "name": "stderr",
     "output_type": "stream",
     "text": [
      "100%|██████████| 1000/1000 [00:00<00:00, 4017.50it/s]"
     ]
    },
    {
     "name": "stdout",
     "output_type": "stream",
     "text": [
      "LR (DeviceArray(2.3599718, dtype=float32), DeviceArray(0.5686595, dtype=float32, weak_type=True))\n"
     ]
    },
    {
     "name": "stderr",
     "output_type": "stream",
     "text": [
      "\n"
     ]
    }
   ],
   "source": [
    "lr = LRAG()\n",
    "lr.fit(x,y)\n",
    "print(f'LR {lr.params()}')"
   ]
  },
  {
   "cell_type": "code",
   "execution_count": 198,
   "metadata": {},
   "outputs": [
    {
     "data": {
      "image/png": "[encoded data removed]",
      "text/plain": [
       "<Figure size 720x360 with 1 Axes>"
      ]
     },
     "metadata": {
      "needs_background": "light"
     },
     "output_type": "display_data"
    }
   ],
   "source": [
    "y_hat = f(lr.params())\n",
    "# plot the data\n",
    "plt.plot(x, y, 'o')\n",
    "plt.plot(x, y_hat, 'ro')\n",
    "plt.show()"
   ]
  },
  {
   "cell_type": "code",
   "execution_count": 199,
   "metadata": {},
   "outputs": [
    {
     "name": "stdout",
     "output_type": "stream",
     "text": [
      "RMSE = 23.721281051635742\n"
     ]
    }
   ],
   "source": [
    "cost = rmse(y,y_hat)\n",
    "print(f'RMSE = {cost}')"
   ]
  }
 ],
 "metadata": {
  "interpreter": {
   "hash": "222e38f7491daf337e0b1a0987736295e98828f490fd2b030e2ac9b1987b4fa0"
  },
  "kernelspec": {
   "display_name": "Python 3.9.10 64-bit ('venv': venv)",
   "language": "python",
   "name": "python3"
  },
  "language_info": {
   "codemirror_mode": {
    "name": "ipython",
    "version": 3
   },
   "file_extension": ".py",
   "mimetype": "text/x-python",
   "name": "python",
   "nbconvert_exporter": "python",
   "pygments_lexer": "ipython3",
   "version": "3.9.10"
  },
  "orig_nbformat": 4
 },
 "nbformat": 4,
 "nbformat_minor": 2
}
