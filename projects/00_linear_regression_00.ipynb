{
 "cells": [
  {
   "cell_type": "markdown",
   "metadata": {},
   "source": [
    "# Linear Regression\n",
    "\n",
    "The idea of this project is to develop three different versions of the Linear Regression model:\n",
    "1. Using the non-differential objective function (Differential Evolution)\n",
    "2. Using the gradient descent (manual derivation)\n",
    "3. Using the gradient descent (with autograd)\n",
    "\n",
    "The linear regression models is defined by:\n",
    "$$\n",
    "h(x,m,b) = m\\times x + b\n",
    "$$\n",
    "\n",
    "The tipical cost function to compute fit the linear regression is the following:\n",
    "$$\n",
    "e = \\frac{\\sum_{i=0}^{m}(y_i-h(x_i, m, b))}{2m}\n",
    "$$"
   ]
  },
  {
   "cell_type": "code",
   "execution_count": null,
   "metadata": {},
   "outputs": [],
   "source": [
    "%matplotlib inline\n",
    "import matplotlib.pyplot as plt\n",
    "import tqdm\n",
    "import pandas as pd\n",
    "import numpy as np\n",
    "import jax.numpy as jnp\n",
    "from jax import grad, jit\n",
    "import optimization.de as de\n",
    "plt.rcParams['figure.figsize'] = [10, 5]"
   ]
  },
  {
   "cell_type": "markdown",
   "metadata": {},
   "source": [
    "## Load the dataset"
   ]
  },
  {
   "cell_type": "code",
   "execution_count": null,
   "metadata": {},
   "outputs": [],
   "source": [
    "data = pd.read_csv('../datasets/heart.csv')\n",
    "data = data[['age', 'trestbps']]\n",
    "data = data.rename(columns={\"age\":\"age\", \"trestbps\":\"bps\"})\n",
    "data.head()"
   ]
  },
  {
   "cell_type": "code",
   "execution_count": null,
   "metadata": {},
   "outputs": [],
   "source": [
    "# divide the dataset\n",
    "x = data[['age']]\n",
    "y = data[['bps']]\n",
    "\n",
    "# convert to numpy arrays\n",
    "x = x.to_numpy()[:,0]\n",
    "y = y.to_numpy()[:,0]\n",
    "\n",
    "# plot the data\n",
    "plt.plot(x, y, 'o')\n",
    "plt.show()"
   ]
  },
  {
   "cell_type": "code",
   "execution_count": null,
   "metadata": {},
   "outputs": [],
   "source": [
    "def rmse(a, b):\n",
    "    return np.sqrt(np.mean(np.power(a-b,2)))"
   ]
  },
  {
   "cell_type": "markdown",
   "metadata": {},
   "source": [
    "## Differential Evolution"
   ]
  },
  {
   "cell_type": "code",
   "execution_count": null,
   "metadata": {},
   "outputs": [],
   "source": [
    "class LRDE:\n",
    "    def fit(self, x, y):\n",
    "        pass\n",
    "    \n",
    "    def predict(self, x):\n",
    "        return x*self.w[0]+self.w[1]\n",
    "    \n",
    "    def params(self):\n",
    "        return self.w"
   ]
  },
  {
   "cell_type": "code",
   "execution_count": null,
   "metadata": {},
   "outputs": [],
   "source": [
    "lr = LRDE()\n",
    "lr.fit(x,y)"
   ]
  },
  {
   "cell_type": "code",
   "execution_count": null,
   "metadata": {},
   "outputs": [],
   "source": [
    "y_hat = f(lr.params())\n",
    "# plot the data\n",
    "plt.plot(x, y, 'o')\n",
    "plt.plot(x, y_hat, 'ro')\n",
    "plt.show()\n"
   ]
  },
  {
   "cell_type": "code",
   "execution_count": null,
   "metadata": {},
   "outputs": [],
   "source": [
    "cost = rmse(y,y_hat)\n",
    "print(f'RMSE = {cost}')"
   ]
  },
  {
   "cell_type": "markdown",
   "metadata": {},
   "source": [
    "## Gradient Descent (Manual)"
   ]
  },
  {
   "cell_type": "code",
   "execution_count": null,
   "metadata": {},
   "outputs": [],
   "source": [
    "class LR:\n",
    "    def fit(self, X, Y, L=0.0001):\n",
    "        self.m = 0.0\n",
    "        self.c = 0.0\n",
    "        for _ in tqdm.tqdm(range(1000)):\n",
    "            pass\n",
    "\n",
    "    def predict(self, x):\n",
    "        return x*self.m+self.c\n",
    "    \n",
    "    def params(self):\n",
    "        return (self.m, self.c)"
   ]
  },
  {
   "cell_type": "code",
   "execution_count": null,
   "metadata": {},
   "outputs": [],
   "source": [
    "lr = LR()\n",
    "lr.fit(x,y)\n",
    "print(f'LR {lr.params()}')"
   ]
  },
  {
   "cell_type": "code",
   "execution_count": null,
   "metadata": {},
   "outputs": [],
   "source": [
    "y_hat = f(lr.params())\n",
    "# plot the data\n",
    "plt.plot(x, y, 'o')\n",
    "plt.plot(x, y_hat, 'ro')\n",
    "plt.show()"
   ]
  },
  {
   "cell_type": "code",
   "execution_count": null,
   "metadata": {},
   "outputs": [],
   "source": [
    "cost = rmse(y,y_hat)\n",
    "print(f'RMSE = {cost}')"
   ]
  },
  {
   "cell_type": "markdown",
   "metadata": {},
   "source": [
    "### Gradient Descent (Autograd)"
   ]
  },
  {
   "cell_type": "code",
   "execution_count": null,
   "metadata": {},
   "outputs": [],
   "source": [
    "class LRAG:\n",
    "    def fit(self, X, Y, L=0.0001):\n",
    "        self.m = 0.0\n",
    "        self.b = 0.0\n",
    "        for _ in tqdm.tqdm(range(1000)):\n",
    "            pass\n",
    "\n",
    "    def predict(self, x):\n",
    "        return x*self.m+self.b\n",
    "    \n",
    "    def params(self):\n",
    "        return (self.m, self.b)"
   ]
  },
  {
   "cell_type": "code",
   "execution_count": null,
   "metadata": {},
   "outputs": [],
   "source": [
    "lr = LRAG()\n",
    "lr.fit(x,y)\n",
    "print(f'LR {lr.params()}')"
   ]
  },
  {
   "cell_type": "code",
   "execution_count": null,
   "metadata": {},
   "outputs": [],
   "source": [
    "y_hat = f(lr.params())\n",
    "# plot the data\n",
    "plt.plot(x, y, 'o')\n",
    "plt.plot(x, y_hat, 'ro')\n",
    "plt.show()"
   ]
  },
  {
   "cell_type": "code",
   "execution_count": null,
   "metadata": {},
   "outputs": [],
   "source": [
    "cost = rmse(y,y_hat)\n",
    "print(f'RMSE = {cost}')"
   ]
  }
 ],
 "metadata": {
  "interpreter": {
   "hash": "222e38f7491daf337e0b1a0987736295e98828f490fd2b030e2ac9b1987b4fa0"
  },
  "kernelspec": {
   "display_name": "Python 3.9.10 64-bit ('venv': venv)",
   "language": "python",
   "name": "python3"
  },
  "language_info": {
   "codemirror_mode": {
    "name": "ipython",
    "version": 3
   },
   "file_extension": ".py",
   "mimetype": "text/x-python",
   "name": "python",
   "nbconvert_exporter": "python",
   "pygments_lexer": "ipython3",
   "version": "3.9.10"
  },
  "orig_nbformat": 4
 },
 "nbformat": 4,
 "nbformat_minor": 2
}
