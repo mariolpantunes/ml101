{
 "cells": [
  {
   "cell_type": "markdown",
   "metadata": {},
   "source": [
    "# ML 101"
   ]
  },
  {
   "cell_type": "markdown",
   "metadata": {},
   "source": [
    "## 3. SVD"
   ]
  },
  {
   "cell_type": "code",
   "execution_count": null,
   "metadata": {},
   "outputs": [],
   "source": [
    "%matplotlib inline\n",
    "import matplotlib\n",
    "import matplotlib.pyplot as plt\n",
    "import numpy as np\n",
    "import os\n",
    "import pandas as pd\n",
    "import scipy.stats\n",
    "\n",
    "import sklearn.preprocessing"
   ]
  },
  {
   "cell_type": "markdown",
   "metadata": {},
   "source": [
    "We start off with the [Iris flower dataset](https://en.wikipedia.org/wiki/Iris_flower_data_set). The data is multivariate, with 150 measurements of 4 features (length and width cm of both sepal and petal) on 3 distinct Iris species. Of the 150 measurements, there are 50 measurements each for _Iris setosa_, _Iris versicolor_, and _Iris virginica_."
   ]
  },
  {
   "cell_type": "code",
   "execution_count": null,
   "metadata": {},
   "outputs": [],
   "source": [
    "data = pd.read_csv('../datasets/iris.csv')\n",
    "variety={'Setosa':0, 'Versicolor':1, 'Virginica':2}\n",
    "data.variety = [variety[item] for item in data.variety]\n",
    "df_iris = data[['sepal.length','sepal.width','petal.length','petal.width']]\n",
    "\n",
    "iris = data[['variety']]\n",
    "iris = iris.to_numpy()[:,0]\n",
    "\n",
    "print('Iris dataset has {} rows and {} columns\\n'.format(*df_iris.shape))\n",
    "\n",
    "print('Here are the first 5 rows of the data:\\n\\n{}\\n'.format(df_iris.head(5)))\n",
    "\n",
    "print('Some simple statistics on the Iris dataset:\\n\\n{}\\n'.format(df_iris.describe()))"
   ]
  },
  {
   "cell_type": "markdown",
   "metadata": {},
   "source": [
    "As we are exploring the dataset, it would be nice to view the data in order to get an idea of how the 3 species might be distributed with respect to one another in terms of their features. Perhaps we are interested in finding clusters, or maybe we would like to find a way to make class predictions?\n",
    "\n",
    "However, since the data has 4 dimensions, we would be hard-pressed to come up with a good way to graph the data in 4D that we could easily understand.\n",
    "\n",
    "_But what if we could reduce or compress the data so that we could work in 3 dimensions or less?_\n",
    "\n",
    "[Singular value decomposition](http://mathworld.wolfram.com/SingularValueDecomposition.html) lets us do just that."
   ]
  },
  {
   "cell_type": "markdown",
   "metadata": {},
   "source": [
    "## Singular value decomposition\n",
    "\n",
    "Singular value decomposition factorizes an $\\mathbb{R}^{m \\times n}$ matrix $X$ into\n",
    "\n",
    "* matrix $U \\in \\mathbb{R}^{m \\times m}$ are the left-singular vectors of $X$, where columns are the set of orthonormal eigenvectors of $X \\, X^{\\intercal}$\n",
    "* diagonal matrix $\\Sigma$ with entries $\\sigma \\in \\mathbb{R}$ that are the non-negative singular values of $X$\n",
    "* matrix $V \\in \\mathbb{R}^{n \\times n}$ are the right-singular vectors $X$, where the columns are the set of orthonormal eigenvectors of $X^{\\intercal} \\, X$\n",
    "\n",
    "such that \n",
    "\n",
    "\\begin{align}\n",
    "  X &= U \\, \\Sigma \\, V^{\\intercal}\n",
    "\\end{align}\n",
    "\n",
    "We can use [`numpy.linalg.svd`](https://docs.scipy.org/doc/numpy/reference/generated/numpy.linalg.svd.html) to factorize the Iris data matrix into three components $U$, $\\Sigma$, and $V^{\\intercal}$."
   ]
  },
  {
   "cell_type": "code",
   "execution_count": null,
   "metadata": {
    "collapsed": true
   },
   "outputs": [],
   "source": [
    "U_iris, S_iris, Vt_iris = np.linalg.svd(df_iris)"
   ]
  },
  {
   "cell_type": "markdown",
   "metadata": {},
   "source": [
    "#### $U$: left-singular vectors of $X$\n",
    "\n",
    "The rows of the $U$ correspond to the rows of original data matrix $X$, while the columns are the set of ordered, orthornormal eigenvectors of $X \\, X^{\\intercal}$."
   ]
  },
  {
   "cell_type": "code",
   "execution_count": null,
   "metadata": {},
   "outputs": [],
   "source": [
    "print('matrix U has {} rows, {} columns\\n'.format(*U_iris.shape))\n",
    "\n",
    "print('{}'.format(pd.DataFrame(U_iris).head(5)))"
   ]
  },
  {
   "cell_type": "markdown",
   "metadata": {},
   "source": [
    "#### $V$: right-singular vectors of $X$\n",
    "\n",
    "[`numpy.linalg.svd`](https://docs.scipy.org/doc/numpy/reference/generated/numpy.linalg.svd.html) actually returns $V^{\\intercal}$ instead of $V$, so it is the _columns_ of $V^{\\intercal}$ that correspond to the columns of original data matrix $X$. Hence, the _rows_ are the set of ordered, orthornormal eigenvectors of $X^{\\intercal} \\, X$."
   ]
  },
  {
   "cell_type": "code",
   "execution_count": null,
   "metadata": {},
   "outputs": [],
   "source": [
    "print('matrix Vt has {} rows, {} columns\\n'.format(*Vt_iris.shape))\n",
    "\n",
    "print('{}'.format(pd.DataFrame(Vt_iris).head()))"
   ]
  },
  {
   "cell_type": "markdown",
   "metadata": {},
   "source": [
    "#### $\\Sigma$: singular values of $X$\n",
    "\n",
    "The elements $\\sigma_{i}$ of diagonal matrix $\\Sigma$ are the non-zero singular values of matrix $X$, which are really just the square roots of the non-zero eigenvalues of $X^{\\intercal} \\, X$ (and also for $X \\, X^{\\intercal}$). These singular values can be used to determine the amount of variance $X^{\\prime}$ explains of the original data matrix $X$ when reducing the dimensions to find a lower rank approximation.\n",
    "\n",
    "\\begin{align}\n",
    "   X^{\\prime}_{k} &=  U_{k} \\, \\Sigma_{k} \\, V^{\\intercal}_{k} \\\\\n",
    "                           &\\approx X_{r} & \\text{ where } rank(X^{\\prime}) = k \\lt rank(X) = r\n",
    "\\end{align}\n",
    "\n",
    "The amount of variance that the reduced rank approximation $X^{\\prime}_{k}$ explains of $X_{r}$ is\n",
    "\n",
    "\\begin{align}\n",
    "  \\text{cum. variance explained} &= \\frac{\\sum_{j=1}^{k} \\sigma_{j}^{2}}{\\sum_{i=1}^{r} \\sigma_{i}^{2}}\n",
    "\\end{align}\n",
    "\n",
    "**NOTE**: [`numpy.linalg.svd`](https://docs.scipy.org/doc/numpy/reference/generated/numpy.linalg.svd.html) actually returns a $\\Sigma$ that is not a diagonal _matrix_, but a _list_ of the entries on the diagonal."
   ]
  },
  {
   "cell_type": "code",
   "execution_count": null,
   "metadata": {
    "collapsed": true
   },
   "outputs": [],
   "source": [
    "num_sv_iris = np.arange(1, S_iris.size+1)\n",
    "\n",
    "cum_var_explained_iris = [np.sum(np.square(S_iris[0:n])) / np.sum(np.square(S_iris)) for n in num_sv_iris]"
   ]
  },
  {
   "cell_type": "markdown",
   "metadata": {},
   "source": [
    "Let's have a look at the cumulative variance explained visually as a function of the number of singular values used when reducing rank to find a lower-ranked matrix $X^{\\prime}$ to approximate $X$. This will inform us as to how many dimensions we should use."
   ]
  },
  {
   "cell_type": "code",
   "execution_count": null,
   "metadata": {},
   "outputs": [],
   "source": [
    "fig = plt.figure(figsize=(7.0,5.5))\n",
    "ax = fig.add_subplot(111)\n",
    "\n",
    "plt.plot(num_sv_iris,\n",
    "         cum_var_explained_iris,\n",
    "         color='#2171b5',\n",
    "         label='variance explained',\n",
    "         alpha=0.65,\n",
    "         zorder=1000)\n",
    "\n",
    "plt.scatter(num_sv_iris,\n",
    "            sklearn.preprocessing.normalize(S_iris.reshape((1,-1))),\n",
    "            color='#fc4e2a',\n",
    "            label='singular values (normalized)',\n",
    "            alpha=0.65,\n",
    "            zorder=1000)\n",
    "\n",
    "plt.legend(loc='center right', scatterpoints=1, fontsize=8)\n",
    "\n",
    "ax.set_xticks(num_sv_iris)\n",
    "ax.set_xlim(0.8, 4.1)\n",
    "ax.set_ylim(0.0, 1.1)\n",
    "ax.set_xlabel(r'Number of singular values used')\n",
    "ax.set_ylabel('Variance in data explained')\n",
    "ax.set_title('Iris dataset: cumulative variance explained & singular values',\n",
    "             fontsize=14,\n",
    "             y=1.03)\n",
    "\n",
    "ax.set_facecolor('0.98')\n",
    "\n",
    "plt.grid(alpha=0.8, zorder=1)\n",
    "plt.tight_layout()\n",
    "plt.show()"
   ]
  },
  {
   "cell_type": "markdown",
   "metadata": {},
   "source": [
    "#### Dimension reduction\n",
    "\n",
    "Judging from the curve representing cumulative variance explained in the figure above, we can see that\n",
    "\n",
    "* with 1 singular value, about 96.5% of the variance of $X$ can be explained\n",
    "* with 2 singular values, that number goes up to approximately 99.8%\n",
    "\n",
    "Since graphing the Iris dataset in 1D wouldn't be all that interesting (just dots on a line segment), let's try using the first 2 singular values to represent the data on the $x$- and $y$-axes, respectively."
   ]
  },
  {
   "cell_type": "code",
   "execution_count": null,
   "metadata": {},
   "outputs": [],
   "source": [
    "\n",
    "idx_setosa = np.where(iris==0)[0]\n",
    "idx_versicolor = np.where(iris==1)[0]\n",
    "idx_virginica = np.where(iris==2)[0]\n",
    "\n",
    "setosa_x = U_iris[idx_setosa, 0]\n",
    "setosa_y = U_iris[idx_setosa, 1]\n",
    "\n",
    "versicolor_x = U_iris[idx_versicolor, 0]\n",
    "versicolor_y = U_iris[idx_versicolor, 1]\n",
    "\n",
    "virginica_x = U_iris[idx_virginica, 0]\n",
    "virginica_y = U_iris[idx_virginica, 1]"
   ]
  },
  {
   "cell_type": "markdown",
   "metadata": {},
   "source": [
    "We will use different marker shapes and colors to represent the three Iris species on our 2D graph."
   ]
  },
  {
   "cell_type": "code",
   "execution_count": null,
   "metadata": {},
   "outputs": [],
   "source": [
    "fig = plt.figure(figsize=(7.0,5.5))\n",
    "ax = fig.add_subplot(111)\n",
    "\n",
    "plt.scatter(setosa_x,\n",
    "            setosa_y,\n",
    "            marker='o',\n",
    "            color='#66c2a5',\n",
    "            label='Iris-setosa',\n",
    "            zorder=1000)\n",
    "\n",
    "plt.scatter(versicolor_x,\n",
    "            versicolor_y,\n",
    "            marker='D',\n",
    "            color='#fc8d62',\n",
    "            label='Iris-versicolor',\n",
    "            zorder=1000)\n",
    "\n",
    "plt.scatter(virginica_x,\n",
    "            virginica_y,\n",
    "            marker='^',\n",
    "            color='#8da0cb',\n",
    "            label='Iris-virginica',\n",
    "            zorder=1000)\n",
    "\n",
    "plt.legend(loc='upper left', scatterpoints=1, fontsize=8)\n",
    "\n",
    "ax.set_xlabel(r'singular value $\\sigma_{1}$')\n",
    "ax.set_ylabel(r'singular value $\\sigma_{2}$')\n",
    "ax.set_title('2D plot of Iris dataset',\n",
    "             fontsize=14,\n",
    "             y=1.03)\n",
    "ax.set_facecolor('0.98')\n",
    "\n",
    "plt.grid(alpha=0.6, zorder=1)\n",
    "plt.tight_layout()"
   ]
  },
  {
   "cell_type": "markdown",
   "metadata": {},
   "source": [
    "There!\n",
    "\n",
    "Now that we are viewing the originally 4D data with 2 dimensions using the first 2 singular value columns of the $U$ left singular vectors matrix, we can see that there should be a very clear separation for the _Iris setosa_ class and the others. On the other hand, the demarcation between _Iris versicolor_ and _Iris virginica_ might not be as clear cut.\n",
    "\n",
    "Nevertheless, since this 2D reduced-rank matrix representation $X^{\\prime}$ explains nearly 99.8% of the variance in the original dataset, we can be pretty certain that clustering and classification should be possible."
   ]
  },
  {
   "cell_type": "markdown",
   "metadata": {},
   "source": [
    "# Helpful Resources\n",
    "\n",
    "* [Making sense of principal component analysis, eigenvectors & eigenvalues](https://stats.stackexchange.com/questions/2691/making-sense-of-principal-component-analysis-eigenvectors-eigenvalues/140579#140579)\n",
    "* [Correspondence analysis is a useful tool to uncover the relationships among categorical variables](https://www.ncbi.nlm.nih.gov/pmc/articles/PMC3718710/)"
   ]
  },
  {
   "cell_type": "markdown",
   "metadata": {},
   "source": [
    "----"
   ]
  },
  {
   "cell_type": "markdown",
   "metadata": {},
   "source": [
    "# Appendix A\n",
    "\n",
    "## PCA and SVD\n",
    "\n",
    "Principal components analysis (PCA) and singular value decomposition are closely related, and you may often hear both these terms used in the same breath.  \n",
    "\n",
    "Here is a quick mathematical treatment explaining how PCA and SVD are related.\n",
    "\n",
    "Consider data matrix $X \\in \\mathbb{R}^{m \\times n}$ where $m > n$, and all $x_{ij}$ are centered about the column means. With principal components analysis, we have\n",
    "\n",
    "\\begin{align}\n",
    "  \\text{covariance matrix } C &= \\frac{1}{m} \\, X^{\\intercal} \\, X & \\text{from PCA} \\\\\n",
    "  &= \\frac{1}{m} \\, V \\, \\Gamma \\, V^{\\intercal} & \\text{by eigendecomposition of } X^{\\intercal} \\, X \\\\\n",
    "  \\\\\n",
    "  \\text{ but } X &= U \\, \\Sigma V^{\\intercal} & \\text{from SVD} \\\\\n",
    "  \\\\\n",
    "  \\Rightarrow C &= \\frac{1}{m} \\, V \\, \\Sigma \\, U^{\\intercal} \\, U \\, \\Sigma V^{\\intercal} \\\\\n",
    "  &= \\frac{1}{m} \\, V \\, \\Sigma^{2} \\, V^{\\intercal} \\\\\n",
    "\\end{align}\n",
    "\n",
    "So we see that:\n",
    "\n",
    "1. the singular values in $\\Sigma$ obtained via SVD are really just the square roots of the eigenvalues in $\\Gamma$ of the covariance matrix in PCA.\n",
    "1. if you mean-center your raw data matrix $X$ and then calculate SVD, you are doing the same thing as PCA.\n",
    "1. the above example shows covariance of $X$ with respect to its columns ($X^{\\intercal} \\, X$); it also applies for covariance of $X$ with respect to rows ($X \\, X^{\\intercal}$).\n",
    "\n",
    "#### Iris dataset: PCA & SVD"
   ]
  },
  {
   "cell_type": "code",
   "execution_count": null,
   "metadata": {},
   "outputs": [],
   "source": [
    "from sklearn.decomposition import PCA\n",
    "\n",
    "pca = PCA()\n",
    "pca.fit(df_iris)\n",
    "\n",
    "# don't forget to mean-center the data before SVD\n",
    "X = df_iris - np.mean(df_iris, axis=0)\n",
    "U, S, Vt = np.linalg.svd(X)"
   ]
  },
  {
   "cell_type": "markdown",
   "metadata": {},
   "source": [
    "#### Compare the eigenvalues of $\\Gamma$ derived from PCA with the singular values from $\\Sigma$ derived with SVD: $\\Gamma = \\Sigma^{2}$?"
   ]
  },
  {
   "cell_type": "code",
   "execution_count": null,
   "metadata": {},
   "outputs": [],
   "source": [
    "Cov_pca = pca.get_covariance()\n",
    "\n",
    "print('eigenvalues from PCA:\\n{}\\n'.format(np.linalg.eigvals(Cov_pca * X.shape[0])))\n",
    "\n",
    "print('squared singular values from SVD:\\n{}'.format(np.square(S)))"
   ]
  },
  {
   "cell_type": "markdown",
   "metadata": {},
   "source": [
    "#### Can we obtain the covariance matrix $C$ derived with PCA, but using  $\\frac{1}{m} \\, V \\, \\Sigma^{2} \\, V^{\\intercal}$ from SVD?"
   ]
  },
  {
   "cell_type": "code",
   "execution_count": null,
   "metadata": {},
   "outputs": [],
   "source": [
    "print('covariance matrix C derived from PCA:\\n{}\\n'.format(Cov_pca))\n",
    "\n",
    "Cov_svd = (1. / X.shape[0]) * Vt.T.dot(np.diag(np.square(S))).dot(Vt) \n",
    "print('covariance matrix using S and Vt from SVD:\\n{}\\n'.format(Cov_svd))\n",
    "\n",
    "allclose = np.allclose(Cov_pca, Cov_svd, atol=1e-1)\n",
    "print('Are these matrices equivalent (element-wise closeness comparison)?\\n{}'.format(allclose))"
   ]
  }
 ],
 "metadata": {
  "kernelspec": {
   "display_name": "Python 3",
   "language": "python",
   "name": "python3"
  },
  "language_info": {
   "codemirror_mode": {
    "name": "ipython",
    "version": 3
   },
   "file_extension": ".py",
   "mimetype": "text/x-python",
   "name": "python",
   "nbconvert_exporter": "python",
   "pygments_lexer": "ipython3",
   "version": "3.9.10"
  }
 },
 "nbformat": 4,
 "nbformat_minor": 2
}
