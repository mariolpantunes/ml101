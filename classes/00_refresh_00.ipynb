{
 "cells": [
  {
   "cell_type": "markdown",
   "metadata": {},
   "source": [
    "# ML 101"
   ]
  },
  {
   "cell_type": "markdown",
   "metadata": {},
   "source": [
    "## 1. Probabilities"
   ]
  },
  {
   "cell_type": "markdown",
   "metadata": {},
   "source": [
    "### Introduction\n",
    "\n",
    "- Statistics and probability theory constitute a branch of mathematics for dealing with uncertainty. The probability theory provides a basis for the science of statistical inference from data\n",
    "- Sample: (of size n) obtained from a mother population assumed to be represented by a probability\n",
    "- Descriptive statistics: description of the sample\n",
    "- Inferential statistics: making a decision or an inference from a sample of our problem\n",
    "\n",
    "### Probabilities\n",
    "\n",
    "A set of probability values for an experiment with sample space $S = \\\\{ O_1, O_2, \\cdots, O_n \\\\}$  consists of some probabilities that satisfy: $$ 0 \\leq p_i \\leq 1, \\hspace{0.5cm} i= 1,2, \\cdots, n $$ and\n",
    "$$ p_1 +p_2 + \\cdots +p_n = 1 $$\n",
    "\n",
    "The probability of outcome $O_i$ occurring is said to be $p_i$ and it is written:\n",
    "\n",
    "$$ P(O_i) = p_i $$\n",
    "\n",
    "In cases in which the $n$ outcomes are equally likely, then each probability will have a value of $\\frac{1}{n}$"
   ]
  },
  {
   "cell_type": "markdown",
   "metadata": {},
   "source": [
    "### Events\n",
    "- Events: subset of the sample space\n",
    "- The probability of an event $A$, $P(A)$, is obtained by the probabilities of the outcomes contained withing the event $A$\n",
    "- An event is said to occur if one of the outcomes contained within the event occurs\n",
    "- Complement of events: event $ A' $ is the event consisting of everything in the sample space $S$ that is not contained within $A$: $$\n",
    "P(A) + P(A ') = 1$$\n"
   ]
  },
  {
   "cell_type": "markdown",
   "metadata": {},
   "source": [
    "### Combinations of Events\n",
    "\n",
    "1. Intersections\n",
    "- $A \\cap B$ consists of the outcomes contained within both events $A$ and $B$\n",
    "- Probability of the intersection, $P(A \\cap B) $, is the probability that both events occur simultaneously\n",
    "- Properties:\n",
    "    - $P(A \\cap B) +P(A \\cap B') = P(A)$\n",
    "    - Mutually exclusive events: if $A \\cap B = \\emptyset$\n",
    "    - $A \\cap (B \\cap C) = (A \\cap B) \\cap C $\n",
    "2. Union\n",
    "- Union of Events: $ A \\cup B $ consists of the outcomes that are contained within at least one of the events $A$ and $B$\n",
    "- The probability of this event, $P (A \\cup B)$ is the probability that at least one of these events $A$ and $B$ occurs\n",
    "- Properties:\n",
    "    - If the events are mutually exclusive, then $P(A \\cup B) = P(A) + P(B)$\n",
    "    - $P( A \\cup B) = P(A \\cap B') + P(A' \\cap B) + P(A \\cap B)$\n",
    "    - $P( A \\cup B) = P(A) + P(B) - P(A \\cap B)$\n",
    "    - $P(A \\cup B \\cup C) = P(A) + P(B) + P(C) - P(A \\cap B) - P( B \\cap C) - P( A \\cap C) + P(A \\cap B \\cap C)$"
   ]
  },
  {
   "cell_type": "markdown",
   "metadata": {},
   "source": [
    "### Conditional Probability\n",
    "- Conditional Probability: of an event $A$ conditional on an event $B$ is:\n",
    "$$P(A \\mid B) = \\frac{P(A \\cap B)}{P(B)} \\hspace{0.5cm}  \\text{for } P(B) >0$$\n",
    "- Properties:\n",
    "    - $P (A \\mid B) = \\frac{P(A \\cap B)}{P(B)} \\Longrightarrow P(A \\cap B) = P(B)P (A \\mid B)$\n",
    "    - $P (A \\mid B \\cap C) = \\frac{P(A \\cap B \\cap C)}{P(B \\cap C)} \\Longrightarrow P(A \\cap B \\cap C) = P(B \\cap C)P (A \\mid B \\cap C)$\n",
    "    - In general, for a sequence of events $A_1, A_2, \\cdots, A_n$:\n",
    "    $$P(A_1, A_2, \\cdots, A_n) = P(A_1)P(A_2 \\mid A_1)P(A_3 \\mid A_1 \\cap A_2) \\cdots P(A_n \\mid A_1 \\cap \\cdots \\cap A_{n-1})$$\n",
    "- Two events A and B are independent if\n",
    "    - $P(A \\mid B) = P(A)$\n",
    "    - $P(B \\mid A) = P(B)$\n",
    "    - $P(A \\cap B) = P(A) \\times P(B)$\n",
    "    - Interpretation: events are independent if the knowledge about one event does not affect the probability of the other event"
   ]
  },
  {
   "cell_type": "markdown",
   "metadata": {},
   "source": [
    "### Posterior Probabilities\n",
    "- Law of total probability: Given $\\{ A_1, A_2, \\cdots, A_n \\}$ a partition of sample space $S$, the probability of an event $B$, $P(B)$ can be expressed as:\n",
    "$$P(B) = \\sum_{i=1}^n P(A_i)P(B \\mid A_i)$$\n",
    "- Bayes' Theorem: Given $\\{ A_1, A_2, \\cdots, A_n \\}$ a partition of a sample space, then the posterior probabilities of the event $A_i$ conditional on an event $B$ can be obtained from the probabilities $P(A_i)$ and $P(A_i \\mid B)$ using the formula:\n",
    "$$ P(A_i \\mid B) = \\frac{P(A_i)P(B \\mid A_i)}{\\sum_{j=1}^n P(A_j)P(B \\mid A_j)}$$"
   ]
  }
 ],
 "metadata": {
  "interpreter": {
   "hash": "222e38f7491daf337e0b1a0987736295e98828f490fd2b030e2ac9b1987b4fa0"
  },
  "kernelspec": {
   "display_name": "Python 3.8.10 64-bit ('venv': venv)",
   "language": "python",
   "name": "python3"
  },
  "language_info": {
   "name": "python",
   "version": "3.8.10"
  },
  "orig_nbformat": 4
 },
 "nbformat": 4,
 "nbformat_minor": 2
}
